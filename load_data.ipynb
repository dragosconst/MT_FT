{
 "cells": [
  {
   "cell_type": "code",
   "execution_count": 10,
   "metadata": {},
   "outputs": [],
   "source": [
    "from datasets import load_dataset\n",
    "from datasets import Dataset\n",
    "from pathlib import Path"
   ]
  },
  {
   "cell_type": "markdown",
   "metadata": {},
   "source": [
    "#### Load our data in a dataset object"
   ]
  },
  {
   "cell_type": "code",
   "execution_count": 26,
   "metadata": {},
   "outputs": [
    {
     "name": "stdout",
     "output_type": "stream",
     "text": [
      "Dataset({\n",
      "    features: ['id', 'language', 'title', 'grade_level', 'version', 'filename', 'en', 's_en'],\n",
      "    num_rows: 2153\n",
      "})\n"
     ]
    }
   ],
   "source": [
    "article_path = Path(\"data/newsela_article_corpus_2016-01-29/articles\")\n",
    "columns = [\"slug\", \"language\", \"title\", \"grade_level\", \"version\", \"filename\"]\n",
    "raw_dataset = Dataset.from_csv(\"data/newsela_article_corpus_2016-01-29/articles_metadata.csv\", delimiter=\",\")\n",
    "\n",
    "raw_dataset = raw_dataset.rename_column(\"slug\", \"id\")  # Assuming 'slug' is equivalent to 'id'\n",
    "\n",
    "def load_file(file_path):\n",
    "    with open(file_path, 'r') as f:\n",
    "        return f.read()\n",
    "\n",
    "# Create a function to process and prepare the dataset\n",
    "def process_dataset(example):\n",
    "    # Customize this function based on your needs\n",
    "    return {\n",
    "        \"en\": load_file(Path(article_path, example[\"filename\"])), \n",
    "        \"s_en\": load_file(Path(article_path,(example[\"filename\"][:-5]\n",
    "                                                 +str(1)\n",
    "                                                 +\".txt\"))),\n",
    "        \"id\": example[\"filename\"]\n",
    "    }\n",
    "\n",
    "raw_dataset = raw_dataset.filter(lambda x: int(x[\"version\"]) == 0)\n",
    "raw_dataset = raw_dataset.filter(lambda x: x[\"filename\"] != \"US-Constitution.en.0.txt\")\n",
    "\n",
    "# Apply the processing function to the dataset\n",
    "processed_dataset = raw_dataset.map(process_dataset)\n",
    "\n",
    "\n",
    "processed_dataset.set_format(type=\"torch\",\n",
    "                             columns=[\"en\", \"id\", \"s_en\"])\n",
    "\n",
    "# Print the processed dataset\n",
    "print(processed_dataset)"
   ]
  },
  {
   "cell_type": "markdown",
   "metadata": {},
   "source": [
    "#### Check how some datasets look compared to ours"
   ]
  },
  {
   "cell_type": "code",
   "execution_count": 18,
   "metadata": {},
   "outputs": [
    {
     "data": {
      "text/plain": [
       "{'id': '10dollarbill-woman.en.0.txt',\n",
       " 'en': 'WASHINGTON — An abolitionist. The longest-serving first lady. The Labor secretary through the Great Depression. The founder of the Girl Scouts.\\n\\nThese are some of the candidates to be the first woman on U.S. currency notes in more than a century. Treasury Secretary Jacob J. Lew announced the plans this week, saying the all-male lineup on American money has gone on long enough.\\n\\n\"We will right that wrong, and when the new, redesigned $10 note is released, it will bear the portrait of a woman,\" he said at the National Archives in Washington.\\n\\nWhile Lew gets to decide who is featured, he and other Treasury officials will fan out across the country to solicit suggestions. They\\'ve set up a website and enlisted Twitter to spread the word. A non-profit group called Women On 20s, formed to convince President Barack Obama to put a woman\\'s image on the $20 note, already has done some polling.\\n\\nThe winner in that contest was Harriet Tubman, the escaped black slave who became one of the country\\'s leading abolitionists in the years before the Civil War, helping hundreds to freedom. She got 118,328 of a total of 352,431 votes in the final round.\\n\\nShe is also a symbol of the U.S. economy\\'s transformation, according to Justin Wolfers, a senior fellow at the Peterson Institute for International Economics in Washington.\\n\\n\"The key drivers of the economic growth over the past century or so have been both the emancipation of the African-Americans and the integration of women into regular economic life,\" Wolfers said in an interview. \"Selecting Harriet Tubman obviously speaks to both of those movements.\"\\n\\nThe Treasury is collecting feedback on the website thenew10.treasury.gov and with the Twitter hashtag \"#TheNew10.\" It will also host open houses, starting June 24 at the Bureau of Engraving and Printing in Fort Worth, Texas.\\n\\nLew will attend some of those public meetings. He said he has \"a bunch of candidates\" but will withhold his judgment until he hears from the American people. He plans to make a decision later this year. The only requirements are that the person be deceased and fit the theme of democracy.\\n\\nEleanor Roosevelt, first lady from 1933 to 1945 and an activist for women, human rights and civil rights, was second in the Women On 20s poll. She is favored by the Association of Junior Leagues International Inc., an organization she belonged to in its early days.\\n\\n\"She was really instrumental in founding the movement for future generations of civic leaders and was there right when it started,\" said Laurie Dodge, director of marketing and development at the association.\\n\\nThe Girl Scouts endorsed Juliette Gordon Low, who founded the organization in 1912 in Savannah, Georgia.\\n\\n\"She was a champion for democracy and a force for good,\" the organization, now based in New York and with more than 2.8 million members in the United States, said on Twitter recently.\\n\\nThe Treasury expects to unveil the new $10 bill in 2020, the 100th anniversary of the passage of the 19th Amendment, which gave women the right to vote. The department can\\'t specify when the new notes will start circulating, because selection and design of the image will be followed by an exhaustive production process. The redesign of the $100 note issued in October 2013 took about 14 years.\\n\\nBarbara Ortiz Howard, the founder of Women On 20s, said her organization is fine with a woman on $10 rather than $20 notes. Either way, the goal of seeing a female on paper money by the voting rights centennial is achieved, Howard said.\\n\\nMore than 600,000 people voted on Women on 20s list of 15 candidates during a 10-week period. On May 12, the organization presented Obama with the results.\\n\\nAnother candidate could be Frances Perkins, Labor secretary from 1933 to 1945 and the first woman appointed to the Cabinet, Wolfers said. House Minority Leader Nancy Pelosi, a Democrat from California, is backing Perkins.\\n\\n\"Frances Perkins was the Labor secretary at a time when the Department of Labor was incredibly active,\" Wolfers said. \"She helped establish unemployment benefits, the minimum wage, the adoption of the 40-hour work week, and a range of worker protections that make up our modern safety net.\"\\n\\nFormer Rhode Island Governor Lincoln Chafee, who is running for the Democratic presidential nomination, is backing Rachel Carson, whose 1962 book Silent Spring is widely credited with launching the modern environmental movement.\\n\\nThe $10 bill was chosen for the new image because it was designated by a special committee on security and counterfeit deterrence in June 2013 as the next currency note to be redesigned. The committee, which includes representatives from the Treasury, the Federal Reserve Board, the Secret Service and the Bureau of Engraving and Printing, focuses on security features that can be used to deter counterfeiting.\\n\\nLew said that $10 note will be the first in the new series of redesigned notes, all including images capturing the theme of democracy.\\n\\nThe last changes of portraits on U.S. currency were between 1914 and 1928, when four adjustments were made: Alexander Hamilton, the first Treasury secretary, replaced Andrew Jackson on the $10 bill; Jackson\\'s image moved to the $20 bill, replacing Grover Cleveland, who now graces the $1,000 bill; and William McKinley replaced John Marshall on the $500 bill.\\n\\nLew has said that Hamilton\\'s image will remain part of the new $10 bill. The last woman to appear on U.S. paper currency was Martha Washington in the late 19th century.',\n",
       " 's_en': 'WASHINGTON — The all-male lineup on American money has gone on long enough, Treasury Secretary Jacob J. Lew said.\\n\\n\"We will right that wrong, and when the new, redesigned $10 note is released, it will bear the portrait of a woman,\" he said in Washington, D.C., recently.\\n\\nWho are some of the candidates to be the first woman on U.S. currency notes in more than a century? A former slave who worked to abolish slavery. The longest-serving first lady. The Labor secretary through the Great Depression. The founder of the Girl Scouts.\\n\\n## Harriet Tubman A Popular Contender\\n\\nWhile Lew gets to decide who is featured, he and other Treasury officials will go across the country to ask for suggestions. They have set up a website and enlisted Twitter to spread the word. A non-profit group called Women On 20s, formed to convince President Barack Obama to put a woman\\'s image on the $20 note, already has done some opinion polling.\\n\\nThe winner in that contest was Harriet Tubman, the escaped black slave who became one of the country\\'s leading abolitionists before the Civil War, helping hundreds to freedom. She got 118,328 of a total of 352,431 votes in the final round.\\n\\nTubman is also a symbol of the U.S. economy\\'s transformation, according to Justin Wolfers. He is with the Peterson Institute for International Economics in Washington. He said when women and African-Americans were allowed to work it gave a boost to the economy, as more people were working, building things and spending money.\\n\\n\"The key drivers of the economic growth over the past century or so have been both the emancipation of the African-Americans and the integration of women into regular economic life,\" Wolfers said. \"Selecting Harriet Tubman obviously speaks to both of those movements.\"\\n\\n## There\\'s Even \"#TheNew10\"\\n\\nThe Treasury Department is collecting feedback on the website thenew10.treasury.gov and with the Twitter hashtag \"#TheNew10.\" It will also host open houses, starting June 24, at the Bureau of Engraving and Printing in Fort Worth, Texas.\\n\\nLew will attend some of those public meetings. He said he has \"a bunch of candidates\" but will wait until he hears from the American people. He plans to make a decision later this year. The only requirements are that the woman is no longer alive and fits the theme of democracy.\\n\\nEleanor Roosevelt was the first lady from 1933 to 1945 and an activist for women, human rights and civil rights. She came in second in the Women On 20s poll.\\n\\nThe Girl Scouts endorsed Juliette Gordon Low, who founded the organization in 1912.\\n\\n\"She was a champion for democracy and a force for good,\" said the organization on Twitter. The Girl Scouts now has more than 2.8 million members in the United States.\\n\\n## Printing New Money Will Take Time\\n\\nThe Treasury Department expects to unveil the new $10 bill in 2020, the 100th anniversary of the passage of the 19th Amendment, which gave women the right to vote. The department cannot specify when the new notes will be in use. After the woman is selected, the bill must be designed and then printed. The redesign of the $100 note issued in October 2013 took about 14 years.\\n\\nBarbara Ortiz Howard, the founder of Women On 20s, said her organization is fine with a woman on $10 rather than $20 notes. Either way, it achieves her goal of seeing a female on paper money by the 100th anniversary of the voting rights amendment, Howard said.\\n\\nMore than 600,000 people voted on Women on 20s\\' list of 15 candidates during a 10-week period. On May 12, the organization presented Obama with the results.\\n\\n## Other Potential Candidates\\n\\nAnother candidate could be Frances Perkins, federal Labor secretary from 1933 to 1945 and the first woman appointed to the presidential Cabinet, Wolfers said. House Minority Leader Nancy Pelosi, a Democrat from California, is backing Perkins.\\n\\n\"Frances Perkins was the labor secretary at a time when the Department of Labor was incredibly active,\" Wolfers said. \"She helped establish unemployment benefits, the minimum wage, the adoption of the 40-hour work week, and a range of worker protections that make up our modern safety net.\"\\n\\nFormer Rhode Island Governor Lincoln Chafee, who is running for the Democratic presidential nomination, is backing Rachel Carson. Her 1962 book \"Silent Spring\" is widely credited with launching the modern environmental movement.\\n\\n## More Currency Facelifts To Come\\n\\nThe $10 bill was chosen for the new image because it was designated by a special committee that fights illegal printing of money – or counterfeiting — as the next currency note to be redesigned. The committee, which includes representatives from the Treasury, the Federal Reserve Board, the Secret Service and the Bureau of Engraving and Printing, focuses on security features that can be used to discourage counterfeiting.\\n\\nLew said that $10 note will be the first in the new series of redesigned notes, all including images on the theme of democracy.\\n\\nThe last changes of portraits on U.S. currency were between 1914 and 1928, when four adjustments were made. Alexander Hamilton, the first Treasury secretary, replaced President Andrew Jackson on the $10 bill. Jackson\\'s image moved to the $20 bill, replacing President Grover Cleveland, who was put on the $1,000 bill. President William McKinley replaced John Marshall on the $500 bill.\\n\\nLew has said that Hamilton\\'s image will remain part of the new $10 bill. The last woman to appear on U.S. paper currency was Martha Washington in the late 19th century.'}"
      ]
     },
     "execution_count": 18,
     "metadata": {},
     "output_type": "execute_result"
    }
   ],
   "source": [
    "processed_dataset[0]"
   ]
  },
  {
   "cell_type": "code",
   "execution_count": 20,
   "metadata": {},
   "outputs": [
    {
     "data": {
      "text/plain": [
       "{'id': 'train_0',\n",
       " 'dialogue': \"#Person1#: Hi, Mr. Smith. I'm Doctor Hawkins. Why are you here today?\\n#Person2#: I found it would be a good idea to get a check-up.\\n#Person1#: Yes, well, you haven't had one for 5 years. You should have one every year.\\n#Person2#: I know. I figure as long as there is nothing wrong, why go see the doctor?\\n#Person1#: Well, the best way to avoid serious illnesses is to find out about them early. So try to come at least once a year for your own good.\\n#Person2#: Ok.\\n#Person1#: Let me see here. Your eyes and ears look fine. Take a deep breath, please. Do you smoke, Mr. Smith?\\n#Person2#: Yes.\\n#Person1#: Smoking is the leading cause of lung cancer and heart disease, you know. You really should quit.\\n#Person2#: I've tried hundreds of times, but I just can't seem to kick the habit.\\n#Person1#: Well, we have classes and some medications that might help. I'll give you more information before you leave.\\n#Person2#: Ok, thanks doctor.\",\n",
       " 'summary': \"Mr. Smith's getting a check-up, and Doctor Hawkins advises him to have one every year. Hawkins'll give some information about their classes and medications to help Mr. Smith quit smoking.\",\n",
       " 'topic': 'get a check-up'}"
      ]
     },
     "execution_count": 20,
     "metadata": {},
     "output_type": "execute_result"
    }
   ],
   "source": [
    "huggingface_dataset_name = \"knkarthick/dialogsum\"\n",
    "dataset = load_dataset(huggingface_dataset_name)\n",
    "dataset['train'][0]"
   ]
  },
  {
   "cell_type": "code",
   "execution_count": 24,
   "metadata": {},
   "outputs": [
    {
     "data": {
      "text/plain": [
       "{'id': '0', 'translation': {'en': 'The Wanderer', 'fr': 'Le grand Meaulnes'}}"
      ]
     },
     "execution_count": 24,
     "metadata": {},
     "output_type": "execute_result"
    }
   ],
   "source": [
    "books = load_dataset(\"opus_books\", \"en-fr\")\n",
    "books['train'][0]"
   ]
  },
  {
   "cell_type": "code",
   "execution_count": 30,
   "metadata": {},
   "outputs": [
    {
     "data": {
      "text/plain": [
       "{'instruction': 'Identify the odd one out.',\n",
       " 'input': 'Twitter, Instagram, Telegram',\n",
       " 'output': 'Telegram',\n",
       " 'text': 'Below is an instruction that describes a task, paired with an input that provides further context. Write a response that appropriately completes the request.\\n\\n### Instruction:\\nIdentify the odd one out.\\n\\n### Input:\\nTwitter, Instagram, Telegram\\n\\n### Response:\\nTelegram'}"
      ]
     },
     "execution_count": 30,
     "metadata": {},
     "output_type": "execute_result"
    }
   ],
   "source": [
    "alpaca = load_dataset(\"tatsu-lab/alpaca\")\n",
    "alpaca[\"train\"][5]"
   ]
  },
  {
   "cell_type": "markdown",
   "metadata": {},
   "source": [
    "### Transform our data to be similar to alpaca data "
   ]
  },
  {
   "cell_type": "code",
   "execution_count": 33,
   "metadata": {},
   "outputs": [
    {
     "name": "stdout",
     "output_type": "stream",
     "text": [
      "Dataset({\n",
      "    features: ['id', 'language', 'title', 'grade_level', 'version', 'filename', 'instruction', 'input', 'output', 'text'],\n",
      "    num_rows: 2153\n",
      "})\n"
     ]
    }
   ],
   "source": [
    "article_path = Path(\"data/newsela_article_corpus_2016-01-29/articles\")\n",
    "columns = [\"slug\", \"language\", \"title\", \"grade_level\", \"version\", \"filename\"]\n",
    "raw_dataset = Dataset.from_csv(\"data/newsela_article_corpus_2016-01-29/articles_metadata.csv\", delimiter=\",\")\n",
    "\n",
    "raw_dataset = raw_dataset.rename_column(\"slug\", \"id\")  # Assuming 'slug' is equivalent to 'id'\n",
    "\n",
    "def load_file(file_path):\n",
    "    with open(file_path, 'r') as f:\n",
    "        return f.read()\n",
    "    \n",
    "def format_instruction(en: str, s_en: str):\n",
    "\treturn f\"\"\"Below is an instruction that describes a task. Write a response that appropriately completes the request.\n",
    "        ### Instruction:\n",
    "        Simplify the text.\n",
    "\n",
    "        ### Input:\n",
    "        {en.strip()}\n",
    "\n",
    "        ### Summary:\n",
    "        {s_en}\n",
    "        \"\"\".strip()\n",
    "\n",
    "# Create a function to process and prepare the dataset\n",
    "def process_dataset(example):\n",
    "    # apply preprocessing and tokenization here ??\n",
    "    en = load_file(Path(article_path, example[\"filename\"]))\n",
    "    s_en = load_file(Path(article_path,(example[\"filename\"][:-5]\n",
    "                                                 +str(1)\n",
    "                                                 +\".txt\")))\n",
    "    return {\n",
    "        \"instruction\": \"Simplify the text\",\n",
    "        \"input\": en, \n",
    "        \"output\": s_en,\n",
    "        \"id\": example[\"filename\"],\n",
    "        \"text\": format_instruction(en, s_en)\n",
    "    }\n",
    "\n",
    "raw_dataset = raw_dataset.filter(lambda x: int(x[\"version\"]) == 0)\n",
    "raw_dataset = raw_dataset.filter(lambda x: x[\"filename\"] != \"US-Constitution.en.0.txt\")\n",
    "\n",
    "# Apply the processing function to the dataset\n",
    "alpaca_like_dataset = raw_dataset.map(process_dataset)\n",
    "\n",
    "\n",
    "alpaca_like_dataset.set_format(type=\"torch\",\n",
    "                             columns=[\"instruction\", \"input\", \"output\", \"id\", \"text\"])\n",
    "\n",
    "# Print the processed dataset\n",
    "print(alpaca_like_dataset)"
   ]
  },
  {
   "cell_type": "code",
   "execution_count": 34,
   "metadata": {},
   "outputs": [
    {
     "data": {
      "text/plain": [
       "{'id': '10dollarbill-woman.en.0.txt',\n",
       " 'instruction': 'Simplify the text',\n",
       " 'input': 'WASHINGTON — An abolitionist. The longest-serving first lady. The Labor secretary through the Great Depression. The founder of the Girl Scouts.\\n\\nThese are some of the candidates to be the first woman on U.S. currency notes in more than a century. Treasury Secretary Jacob J. Lew announced the plans this week, saying the all-male lineup on American money has gone on long enough.\\n\\n\"We will right that wrong, and when the new, redesigned $10 note is released, it will bear the portrait of a woman,\" he said at the National Archives in Washington.\\n\\nWhile Lew gets to decide who is featured, he and other Treasury officials will fan out across the country to solicit suggestions. They\\'ve set up a website and enlisted Twitter to spread the word. A non-profit group called Women On 20s, formed to convince President Barack Obama to put a woman\\'s image on the $20 note, already has done some polling.\\n\\nThe winner in that contest was Harriet Tubman, the escaped black slave who became one of the country\\'s leading abolitionists in the years before the Civil War, helping hundreds to freedom. She got 118,328 of a total of 352,431 votes in the final round.\\n\\nShe is also a symbol of the U.S. economy\\'s transformation, according to Justin Wolfers, a senior fellow at the Peterson Institute for International Economics in Washington.\\n\\n\"The key drivers of the economic growth over the past century or so have been both the emancipation of the African-Americans and the integration of women into regular economic life,\" Wolfers said in an interview. \"Selecting Harriet Tubman obviously speaks to both of those movements.\"\\n\\nThe Treasury is collecting feedback on the website thenew10.treasury.gov and with the Twitter hashtag \"#TheNew10.\" It will also host open houses, starting June 24 at the Bureau of Engraving and Printing in Fort Worth, Texas.\\n\\nLew will attend some of those public meetings. He said he has \"a bunch of candidates\" but will withhold his judgment until he hears from the American people. He plans to make a decision later this year. The only requirements are that the person be deceased and fit the theme of democracy.\\n\\nEleanor Roosevelt, first lady from 1933 to 1945 and an activist for women, human rights and civil rights, was second in the Women On 20s poll. She is favored by the Association of Junior Leagues International Inc., an organization she belonged to in its early days.\\n\\n\"She was really instrumental in founding the movement for future generations of civic leaders and was there right when it started,\" said Laurie Dodge, director of marketing and development at the association.\\n\\nThe Girl Scouts endorsed Juliette Gordon Low, who founded the organization in 1912 in Savannah, Georgia.\\n\\n\"She was a champion for democracy and a force for good,\" the organization, now based in New York and with more than 2.8 million members in the United States, said on Twitter recently.\\n\\nThe Treasury expects to unveil the new $10 bill in 2020, the 100th anniversary of the passage of the 19th Amendment, which gave women the right to vote. The department can\\'t specify when the new notes will start circulating, because selection and design of the image will be followed by an exhaustive production process. The redesign of the $100 note issued in October 2013 took about 14 years.\\n\\nBarbara Ortiz Howard, the founder of Women On 20s, said her organization is fine with a woman on $10 rather than $20 notes. Either way, the goal of seeing a female on paper money by the voting rights centennial is achieved, Howard said.\\n\\nMore than 600,000 people voted on Women on 20s list of 15 candidates during a 10-week period. On May 12, the organization presented Obama with the results.\\n\\nAnother candidate could be Frances Perkins, Labor secretary from 1933 to 1945 and the first woman appointed to the Cabinet, Wolfers said. House Minority Leader Nancy Pelosi, a Democrat from California, is backing Perkins.\\n\\n\"Frances Perkins was the Labor secretary at a time when the Department of Labor was incredibly active,\" Wolfers said. \"She helped establish unemployment benefits, the minimum wage, the adoption of the 40-hour work week, and a range of worker protections that make up our modern safety net.\"\\n\\nFormer Rhode Island Governor Lincoln Chafee, who is running for the Democratic presidential nomination, is backing Rachel Carson, whose 1962 book Silent Spring is widely credited with launching the modern environmental movement.\\n\\nThe $10 bill was chosen for the new image because it was designated by a special committee on security and counterfeit deterrence in June 2013 as the next currency note to be redesigned. The committee, which includes representatives from the Treasury, the Federal Reserve Board, the Secret Service and the Bureau of Engraving and Printing, focuses on security features that can be used to deter counterfeiting.\\n\\nLew said that $10 note will be the first in the new series of redesigned notes, all including images capturing the theme of democracy.\\n\\nThe last changes of portraits on U.S. currency were between 1914 and 1928, when four adjustments were made: Alexander Hamilton, the first Treasury secretary, replaced Andrew Jackson on the $10 bill; Jackson\\'s image moved to the $20 bill, replacing Grover Cleveland, who now graces the $1,000 bill; and William McKinley replaced John Marshall on the $500 bill.\\n\\nLew has said that Hamilton\\'s image will remain part of the new $10 bill. The last woman to appear on U.S. paper currency was Martha Washington in the late 19th century.',\n",
       " 'output': 'WASHINGTON — The all-male lineup on American money has gone on long enough, Treasury Secretary Jacob J. Lew said.\\n\\n\"We will right that wrong, and when the new, redesigned $10 note is released, it will bear the portrait of a woman,\" he said in Washington, D.C., recently.\\n\\nWho are some of the candidates to be the first woman on U.S. currency notes in more than a century? A former slave who worked to abolish slavery. The longest-serving first lady. The Labor secretary through the Great Depression. The founder of the Girl Scouts.\\n\\n## Harriet Tubman A Popular Contender\\n\\nWhile Lew gets to decide who is featured, he and other Treasury officials will go across the country to ask for suggestions. They have set up a website and enlisted Twitter to spread the word. A non-profit group called Women On 20s, formed to convince President Barack Obama to put a woman\\'s image on the $20 note, already has done some opinion polling.\\n\\nThe winner in that contest was Harriet Tubman, the escaped black slave who became one of the country\\'s leading abolitionists before the Civil War, helping hundreds to freedom. She got 118,328 of a total of 352,431 votes in the final round.\\n\\nTubman is also a symbol of the U.S. economy\\'s transformation, according to Justin Wolfers. He is with the Peterson Institute for International Economics in Washington. He said when women and African-Americans were allowed to work it gave a boost to the economy, as more people were working, building things and spending money.\\n\\n\"The key drivers of the economic growth over the past century or so have been both the emancipation of the African-Americans and the integration of women into regular economic life,\" Wolfers said. \"Selecting Harriet Tubman obviously speaks to both of those movements.\"\\n\\n## There\\'s Even \"#TheNew10\"\\n\\nThe Treasury Department is collecting feedback on the website thenew10.treasury.gov and with the Twitter hashtag \"#TheNew10.\" It will also host open houses, starting June 24, at the Bureau of Engraving and Printing in Fort Worth, Texas.\\n\\nLew will attend some of those public meetings. He said he has \"a bunch of candidates\" but will wait until he hears from the American people. He plans to make a decision later this year. The only requirements are that the woman is no longer alive and fits the theme of democracy.\\n\\nEleanor Roosevelt was the first lady from 1933 to 1945 and an activist for women, human rights and civil rights. She came in second in the Women On 20s poll.\\n\\nThe Girl Scouts endorsed Juliette Gordon Low, who founded the organization in 1912.\\n\\n\"She was a champion for democracy and a force for good,\" said the organization on Twitter. The Girl Scouts now has more than 2.8 million members in the United States.\\n\\n## Printing New Money Will Take Time\\n\\nThe Treasury Department expects to unveil the new $10 bill in 2020, the 100th anniversary of the passage of the 19th Amendment, which gave women the right to vote. The department cannot specify when the new notes will be in use. After the woman is selected, the bill must be designed and then printed. The redesign of the $100 note issued in October 2013 took about 14 years.\\n\\nBarbara Ortiz Howard, the founder of Women On 20s, said her organization is fine with a woman on $10 rather than $20 notes. Either way, it achieves her goal of seeing a female on paper money by the 100th anniversary of the voting rights amendment, Howard said.\\n\\nMore than 600,000 people voted on Women on 20s\\' list of 15 candidates during a 10-week period. On May 12, the organization presented Obama with the results.\\n\\n## Other Potential Candidates\\n\\nAnother candidate could be Frances Perkins, federal Labor secretary from 1933 to 1945 and the first woman appointed to the presidential Cabinet, Wolfers said. House Minority Leader Nancy Pelosi, a Democrat from California, is backing Perkins.\\n\\n\"Frances Perkins was the labor secretary at a time when the Department of Labor was incredibly active,\" Wolfers said. \"She helped establish unemployment benefits, the minimum wage, the adoption of the 40-hour work week, and a range of worker protections that make up our modern safety net.\"\\n\\nFormer Rhode Island Governor Lincoln Chafee, who is running for the Democratic presidential nomination, is backing Rachel Carson. Her 1962 book \"Silent Spring\" is widely credited with launching the modern environmental movement.\\n\\n## More Currency Facelifts To Come\\n\\nThe $10 bill was chosen for the new image because it was designated by a special committee that fights illegal printing of money – or counterfeiting — as the next currency note to be redesigned. The committee, which includes representatives from the Treasury, the Federal Reserve Board, the Secret Service and the Bureau of Engraving and Printing, focuses on security features that can be used to discourage counterfeiting.\\n\\nLew said that $10 note will be the first in the new series of redesigned notes, all including images on the theme of democracy.\\n\\nThe last changes of portraits on U.S. currency were between 1914 and 1928, when four adjustments were made. Alexander Hamilton, the first Treasury secretary, replaced President Andrew Jackson on the $10 bill. Jackson\\'s image moved to the $20 bill, replacing President Grover Cleveland, who was put on the $1,000 bill. President William McKinley replaced John Marshall on the $500 bill.\\n\\nLew has said that Hamilton\\'s image will remain part of the new $10 bill. The last woman to appear on U.S. paper currency was Martha Washington in the late 19th century.',\n",
       " 'text': 'Below is an instruction that describes a task. Write a response that appropriately completes the request.\\n        ### Instruction:\\n        Simplify the text.\\n\\n        ### Input:\\n        WASHINGTON — An abolitionist. The longest-serving first lady. The Labor secretary through the Great Depression. The founder of the Girl Scouts.\\n\\nThese are some of the candidates to be the first woman on U.S. currency notes in more than a century. Treasury Secretary Jacob J. Lew announced the plans this week, saying the all-male lineup on American money has gone on long enough.\\n\\n\"We will right that wrong, and when the new, redesigned $10 note is released, it will bear the portrait of a woman,\" he said at the National Archives in Washington.\\n\\nWhile Lew gets to decide who is featured, he and other Treasury officials will fan out across the country to solicit suggestions. They\\'ve set up a website and enlisted Twitter to spread the word. A non-profit group called Women On 20s, formed to convince President Barack Obama to put a woman\\'s image on the $20 note, already has done some polling.\\n\\nThe winner in that contest was Harriet Tubman, the escaped black slave who became one of the country\\'s leading abolitionists in the years before the Civil War, helping hundreds to freedom. She got 118,328 of a total of 352,431 votes in the final round.\\n\\nShe is also a symbol of the U.S. economy\\'s transformation, according to Justin Wolfers, a senior fellow at the Peterson Institute for International Economics in Washington.\\n\\n\"The key drivers of the economic growth over the past century or so have been both the emancipation of the African-Americans and the integration of women into regular economic life,\" Wolfers said in an interview. \"Selecting Harriet Tubman obviously speaks to both of those movements.\"\\n\\nThe Treasury is collecting feedback on the website thenew10.treasury.gov and with the Twitter hashtag \"#TheNew10.\" It will also host open houses, starting June 24 at the Bureau of Engraving and Printing in Fort Worth, Texas.\\n\\nLew will attend some of those public meetings. He said he has \"a bunch of candidates\" but will withhold his judgment until he hears from the American people. He plans to make a decision later this year. The only requirements are that the person be deceased and fit the theme of democracy.\\n\\nEleanor Roosevelt, first lady from 1933 to 1945 and an activist for women, human rights and civil rights, was second in the Women On 20s poll. She is favored by the Association of Junior Leagues International Inc., an organization she belonged to in its early days.\\n\\n\"She was really instrumental in founding the movement for future generations of civic leaders and was there right when it started,\" said Laurie Dodge, director of marketing and development at the association.\\n\\nThe Girl Scouts endorsed Juliette Gordon Low, who founded the organization in 1912 in Savannah, Georgia.\\n\\n\"She was a champion for democracy and a force for good,\" the organization, now based in New York and with more than 2.8 million members in the United States, said on Twitter recently.\\n\\nThe Treasury expects to unveil the new $10 bill in 2020, the 100th anniversary of the passage of the 19th Amendment, which gave women the right to vote. The department can\\'t specify when the new notes will start circulating, because selection and design of the image will be followed by an exhaustive production process. The redesign of the $100 note issued in October 2013 took about 14 years.\\n\\nBarbara Ortiz Howard, the founder of Women On 20s, said her organization is fine with a woman on $10 rather than $20 notes. Either way, the goal of seeing a female on paper money by the voting rights centennial is achieved, Howard said.\\n\\nMore than 600,000 people voted on Women on 20s list of 15 candidates during a 10-week period. On May 12, the organization presented Obama with the results.\\n\\nAnother candidate could be Frances Perkins, Labor secretary from 1933 to 1945 and the first woman appointed to the Cabinet, Wolfers said. House Minority Leader Nancy Pelosi, a Democrat from California, is backing Perkins.\\n\\n\"Frances Perkins was the Labor secretary at a time when the Department of Labor was incredibly active,\" Wolfers said. \"She helped establish unemployment benefits, the minimum wage, the adoption of the 40-hour work week, and a range of worker protections that make up our modern safety net.\"\\n\\nFormer Rhode Island Governor Lincoln Chafee, who is running for the Democratic presidential nomination, is backing Rachel Carson, whose 1962 book Silent Spring is widely credited with launching the modern environmental movement.\\n\\nThe $10 bill was chosen for the new image because it was designated by a special committee on security and counterfeit deterrence in June 2013 as the next currency note to be redesigned. The committee, which includes representatives from the Treasury, the Federal Reserve Board, the Secret Service and the Bureau of Engraving and Printing, focuses on security features that can be used to deter counterfeiting.\\n\\nLew said that $10 note will be the first in the new series of redesigned notes, all including images capturing the theme of democracy.\\n\\nThe last changes of portraits on U.S. currency were between 1914 and 1928, when four adjustments were made: Alexander Hamilton, the first Treasury secretary, replaced Andrew Jackson on the $10 bill; Jackson\\'s image moved to the $20 bill, replacing Grover Cleveland, who now graces the $1,000 bill; and William McKinley replaced John Marshall on the $500 bill.\\n\\nLew has said that Hamilton\\'s image will remain part of the new $10 bill. The last woman to appear on U.S. paper currency was Martha Washington in the late 19th century.\\n\\n        ### Summary:\\n        WASHINGTON — The all-male lineup on American money has gone on long enough, Treasury Secretary Jacob J. Lew said.\\n\\n\"We will right that wrong, and when the new, redesigned $10 note is released, it will bear the portrait of a woman,\" he said in Washington, D.C., recently.\\n\\nWho are some of the candidates to be the first woman on U.S. currency notes in more than a century? A former slave who worked to abolish slavery. The longest-serving first lady. The Labor secretary through the Great Depression. The founder of the Girl Scouts.\\n\\n## Harriet Tubman A Popular Contender\\n\\nWhile Lew gets to decide who is featured, he and other Treasury officials will go across the country to ask for suggestions. They have set up a website and enlisted Twitter to spread the word. A non-profit group called Women On 20s, formed to convince President Barack Obama to put a woman\\'s image on the $20 note, already has done some opinion polling.\\n\\nThe winner in that contest was Harriet Tubman, the escaped black slave who became one of the country\\'s leading abolitionists before the Civil War, helping hundreds to freedom. She got 118,328 of a total of 352,431 votes in the final round.\\n\\nTubman is also a symbol of the U.S. economy\\'s transformation, according to Justin Wolfers. He is with the Peterson Institute for International Economics in Washington. He said when women and African-Americans were allowed to work it gave a boost to the economy, as more people were working, building things and spending money.\\n\\n\"The key drivers of the economic growth over the past century or so have been both the emancipation of the African-Americans and the integration of women into regular economic life,\" Wolfers said. \"Selecting Harriet Tubman obviously speaks to both of those movements.\"\\n\\n## There\\'s Even \"#TheNew10\"\\n\\nThe Treasury Department is collecting feedback on the website thenew10.treasury.gov and with the Twitter hashtag \"#TheNew10.\" It will also host open houses, starting June 24, at the Bureau of Engraving and Printing in Fort Worth, Texas.\\n\\nLew will attend some of those public meetings. He said he has \"a bunch of candidates\" but will wait until he hears from the American people. He plans to make a decision later this year. The only requirements are that the woman is no longer alive and fits the theme of democracy.\\n\\nEleanor Roosevelt was the first lady from 1933 to 1945 and an activist for women, human rights and civil rights. She came in second in the Women On 20s poll.\\n\\nThe Girl Scouts endorsed Juliette Gordon Low, who founded the organization in 1912.\\n\\n\"She was a champion for democracy and a force for good,\" said the organization on Twitter. The Girl Scouts now has more than 2.8 million members in the United States.\\n\\n## Printing New Money Will Take Time\\n\\nThe Treasury Department expects to unveil the new $10 bill in 2020, the 100th anniversary of the passage of the 19th Amendment, which gave women the right to vote. The department cannot specify when the new notes will be in use. After the woman is selected, the bill must be designed and then printed. The redesign of the $100 note issued in October 2013 took about 14 years.\\n\\nBarbara Ortiz Howard, the founder of Women On 20s, said her organization is fine with a woman on $10 rather than $20 notes. Either way, it achieves her goal of seeing a female on paper money by the 100th anniversary of the voting rights amendment, Howard said.\\n\\nMore than 600,000 people voted on Women on 20s\\' list of 15 candidates during a 10-week period. On May 12, the organization presented Obama with the results.\\n\\n## Other Potential Candidates\\n\\nAnother candidate could be Frances Perkins, federal Labor secretary from 1933 to 1945 and the first woman appointed to the presidential Cabinet, Wolfers said. House Minority Leader Nancy Pelosi, a Democrat from California, is backing Perkins.\\n\\n\"Frances Perkins was the labor secretary at a time when the Department of Labor was incredibly active,\" Wolfers said. \"She helped establish unemployment benefits, the minimum wage, the adoption of the 40-hour work week, and a range of worker protections that make up our modern safety net.\"\\n\\nFormer Rhode Island Governor Lincoln Chafee, who is running for the Democratic presidential nomination, is backing Rachel Carson. Her 1962 book \"Silent Spring\" is widely credited with launching the modern environmental movement.\\n\\n## More Currency Facelifts To Come\\n\\nThe $10 bill was chosen for the new image because it was designated by a special committee that fights illegal printing of money – or counterfeiting — as the next currency note to be redesigned. The committee, which includes representatives from the Treasury, the Federal Reserve Board, the Secret Service and the Bureau of Engraving and Printing, focuses on security features that can be used to discourage counterfeiting.\\n\\nLew said that $10 note will be the first in the new series of redesigned notes, all including images on the theme of democracy.\\n\\nThe last changes of portraits on U.S. currency were between 1914 and 1928, when four adjustments were made. Alexander Hamilton, the first Treasury secretary, replaced President Andrew Jackson on the $10 bill. Jackson\\'s image moved to the $20 bill, replacing President Grover Cleveland, who was put on the $1,000 bill. President William McKinley replaced John Marshall on the $500 bill.\\n\\nLew has said that Hamilton\\'s image will remain part of the new $10 bill. The last woman to appear on U.S. paper currency was Martha Washington in the late 19th century.'}"
      ]
     },
     "execution_count": 34,
     "metadata": {},
     "output_type": "execute_result"
    }
   ],
   "source": [
    "alpaca_like_dataset[0]"
   ]
  }
 ],
 "metadata": {
  "kernelspec": {
   "display_name": "transformers-intro",
   "language": "python",
   "name": "python3"
  },
  "language_info": {
   "codemirror_mode": {
    "name": "ipython",
    "version": 3
   },
   "file_extension": ".py",
   "mimetype": "text/x-python",
   "name": "python",
   "nbconvert_exporter": "python",
   "pygments_lexer": "ipython3",
   "version": "3.9.18"
  }
 },
 "nbformat": 4,
 "nbformat_minor": 2
}
