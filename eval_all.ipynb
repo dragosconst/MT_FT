{
 "cells": [
  {
   "cell_type": "markdown",
   "metadata": {},
   "source": [
    "#### Methods\n",
    "- evaluate method : using model,tokenizer,valid_data, metrics dict evaluate the \n",
    "- method to extract valid data "
   ]
  },
  {
   "cell_type": "markdown",
   "metadata": {},
   "source": [
    "#### LOAD DATA"
   ]
  },
  {
   "cell_type": "code",
   "execution_count": 1,
   "metadata": {},
   "outputs": [],
   "source": [
    "import dill as pickle\n",
    "\n",
    "def get_validation_data(valid_path='data/dataset_test.pkl', shuffle_seed=1337):\n",
    "\n",
    "    with open(valid_path, 'rb') as f:\n",
    "        shuffled_alpaca = pickle.load(f)\n",
    "\n",
    "    if shuffle_seed is not None:\n",
    "        shuffled_alpaca = shuffled_alpaca.shuffle(seed=shuffle_seed)\n",
    "\n",
    "    return shuffled_alpaca"
   ]
  },
  {
   "cell_type": "markdown",
   "metadata": {},
   "source": [
    "#### LOAD MODEL, TOKENIZER"
   ]
  },
  {
   "cell_type": "code",
   "execution_count": 2,
   "metadata": {},
   "outputs": [],
   "source": [
    "import pathlib\n",
    "\n",
    "def extract_path_info(checkpoint_path):\n",
    "    files_mapping = {}\n",
    "    for p in pathlib.Path(checkpoint_path).iterdir():\n",
    "        if p.is_file():\n",
    "            if \"config\" in str(p).lower():\n",
    "                files_mapping[\"config\"] = str(p)\n",
    "            elif \"model\" in str(p).lower():\n",
    "                files_mapping[\"weights\"] = str(p)\n",
    "            elif \"readme\" in str(p).lower():\n",
    "                files_mapping[\"readme\"] = str(p)\n",
    "\n",
    "    return files_mapping"
   ]
  },
  {
   "cell_type": "code",
   "execution_count": 3,
   "metadata": {},
   "outputs": [
    {
     "name": "stderr",
     "output_type": "stream",
     "text": [
      "/home/machine73/anaconda3/envs/MT_P/lib/python3.10/site-packages/tqdm/auto.py:21: TqdmWarning: IProgress not found. Please update jupyter and ipywidgets. See https://ipywidgets.readthedocs.io/en/stable/user_install.html\n",
      "  from .autonotebook import tqdm as notebook_tqdm\n"
     ]
    }
   ],
   "source": [
    "import json \n",
    "from transformers import AutoTokenizer\n",
    "from peft import AutoPeftModelForCausalLM\n",
    "\n",
    "def get_model_tokenizer(checkpoint_path=\"weights/mistral_0_3\"):\n",
    "    files_maping = extract_path_info(checkpoint_path)\n",
    "\n",
    "    with open(files_maping[\"config\"], 'r') as file:\n",
    "        loaded_config = json.load(file)\n",
    "\n",
    "    model_name = loaded_config['base_model_name_or_path']\n",
    "\n",
    "    tokenizer = AutoTokenizer.from_pretrained(\n",
    "        model_name\n",
    "        )\n",
    "    \n",
    "    model = AutoPeftModelForCausalLM.from_pretrained(\n",
    "        checkpoint_path,\n",
    "        load_in_4bit = True # on my setup this is the only doable load\n",
    "        )   # dragos can probs pass files_mapping[\"config\"] dirrectly\n",
    "    \n",
    "    return model, tokenizer"
   ]
  },
  {
   "cell_type": "markdown",
   "metadata": {},
   "source": [
    "#### Eval for one listed metric"
   ]
  },
  {
   "cell_type": "code",
   "execution_count": 4,
   "metadata": {},
   "outputs": [],
   "source": [
    "def extract_text_after_substring(full_text, substring):\n",
    "\n",
    "    index = full_text.find(substring)\n",
    "\n",
    "    if index == -1:\n",
    "        return \"\"  \n",
    "\n",
    "    return full_text[index + len(substring):].strip()"
   ]
  },
  {
   "cell_type": "code",
   "execution_count": 5,
   "metadata": {},
   "outputs": [],
   "source": [
    "def extract_text_excluding_dubs(text):\n",
    "    # Function to split text into sentences\n",
    "    def split_into_sentences(text):\n",
    "        # This can be more sophisticated depending on sentence complexity\n",
    "        return [sentence.strip() for sentence in text.split('.') if sentence]\n",
    "\n",
    "    # Split the text into sentences\n",
    "    sentences = split_into_sentences(text)\n",
    "\n",
    "    # Identify repeating groups\n",
    "    for i in range(len(sentences)):\n",
    "        # Check for repetition in the rest of the text\n",
    "        for j in range(i + 1, len(sentences)):\n",
    "            # Compare groups of sentences\n",
    "            group_size = j - i\n",
    "            if group_size > 0 and sentences[i:i + group_size] == sentences[j:j + group_size]:\n",
    "                # Return text up to and including the first repetition group\n",
    "                return '. '.join(sentences[:j + group_size]) + '.'\n",
    "    \n",
    "    # If no repetition is found, return the original text\n",
    "    return text\n"
   ]
  },
  {
   "cell_type": "code",
   "execution_count": 6,
   "metadata": {},
   "outputs": [],
   "source": [
    "def simple_tokenize(text):\n",
    "    # Splitting by whitespace and removing punctuation\n",
    "    tokens = text.split()\n",
    "    tokens = [token.strip('.,!?;:') for token in tokens]\n",
    "    return tokens"
   ]
  },
  {
   "cell_type": "code",
   "execution_count": 7,
   "metadata": {},
   "outputs": [],
   "source": [
    "from nltk.translate.bleu_score import sentence_bleu\n",
    "from evaluate import load\n",
    "\n",
    "def compute_metric(pred, target, metric_name=\"bleu\"):\n",
    "    if metric_name==\"bleu\":\n",
    "        pred = simple_tokenize(pred)\n",
    "        target = simple_tokenize(target)\n",
    "\n",
    "        bleu_score = sentence_bleu([target], pred)\n",
    "\n",
    "        return bleu_score\n",
    "    elif metric_name==\"rougeL\":\n",
    "        rouge = load('rouge')\n",
    "        results = rouge.compute(predictions=[pred],\n",
    "                         references=[target],\n",
    "                         rouge_types = [\"rougeL\"])\n",
    "        return results\n",
    "    "
   ]
  },
  {
   "cell_type": "markdown",
   "metadata": {},
   "source": [
    "### Use model to generate an output on each datapoint and evaluate the output"
   ]
  },
  {
   "cell_type": "code",
   "execution_count": 8,
   "metadata": {},
   "outputs": [],
   "source": [
    "def eval_one_metric(model, tokenizer, eval_data, device, metric, eliminate_dups = True):\n",
    "\n",
    "    model = model.to(device)\n",
    "    model.eval()\n",
    "\n",
    "    metric_norm = len(eval_data)\n",
    "    metric_value = 0.0\n",
    "\n",
    "    for data_point in eval_data:\n",
    "\n",
    "        model_input = tokenizer(\n",
    "            data_point[\"text\"],\n",
    "            return_tensors=\"pt\"\n",
    "            )\n",
    "\n",
    "        model_out = model.generate(\n",
    "            input_ids=model_input[\"input_ids\"],\n",
    "            max_new_tokens=3000 # this could be computed as max_tokens across all outs\n",
    "            )\n",
    "        \n",
    "        out_text = tokenizer.batch_decode(\n",
    "            model_out.detach().cpu().numpy(),\n",
    "            skip_special_tokens=True\n",
    "            )[0] # 0 because we passed a batch of one el\n",
    "\n",
    "        _out = extract_text_after_substring(\n",
    "            out_text,\n",
    "            \"The simplified text is:\")\n",
    "        \n",
    "        if eliminate_dups:\n",
    "            _out = extract_text_excluding_dubs(_out)\n",
    "\n",
    "        _target = data_point[\"output\"]\n",
    "\n",
    "        metric_value += compute_metric(_out, _target, metric)\n",
    "    \n",
    "    return metric_value / metric_norm"
   ]
  },
  {
   "cell_type": "code",
   "execution_count": null,
   "metadata": {},
   "outputs": [],
   "source": [
    "import torch \n",
    "\n",
    "eval_data = get_validation_data(\n",
    "    valid_path='data/dataset_test.pkl',\n",
    "    shuffle_seed=1337\n",
    "    )\n",
    "model, tokenizer = get_model_tokenizer(\n",
    "    checkpoint_path=\"weights/mistral_0_3\"\n",
    "    )\n",
    "device = torch.device(\n",
    "    'cuda' if torch.cuda.is_available() else 'cpu'\n",
    "    )\n",
    "\n",
    "eval_res = eval_one_metric(\n",
    "    model,\n",
    "    tokenizer,\n",
    "    eval_data,\n",
    "    device,\n",
    "    metric=\"bleu\"\n",
    ")\n"
   ]
  },
  {
   "cell_type": "markdown",
   "metadata": {},
   "source": [
    "### Evaluate using data already generated by the model"
   ]
  },
  {
   "cell_type": "code",
   "execution_count": 1,
   "metadata": {},
   "outputs": [],
   "source": [
    "def eval_one_metric_only_data(generated_outs, eval_data, metric=\"bleu\", eliminate_dubs=True):\n",
    "    \n",
    "    metric_norm = len(eval_data)\n",
    "    metric_value = 0.0\n",
    "\n",
    "    for idx, data_point in enumerate(eval_data):\n",
    "\n",
    "        _out = extract_text_after_substring(\n",
    "            generated_outs[idx],\n",
    "            \"The simplified text is:\")\n",
    "        \n",
    "        if eliminate_dubs:\n",
    "            _out = extract_text_excluding_dubs(_out)\n",
    "\n",
    "        _target = data_point[\"output\"]\n",
    "\n",
    "        metric_value += compute_metric(_out, _target, metric)\n",
    "\n",
    "    return metric_value / metric_norm"
   ]
  },
  {
   "cell_type": "code",
   "execution_count": null,
   "metadata": {},
   "outputs": [],
   "source": [
    "import torch \n",
    "\n",
    "eval_data = get_validation_data(\n",
    "    valid_path='data/dataset_test.pkl',\n",
    "    shuffle_seed=1337\n",
    "    )\n",
    "\n",
    "generated_outs = \"Insert list of string here\"\n",
    "\n",
    "eval_res = eval_one_metric_only_data(\n",
    "    generated_outs,\n",
    "    eval_data,\n",
    "    metric=\"bleu\"\n",
    ")\n"
   ]
  }
 ],
 "metadata": {
  "kernelspec": {
   "display_name": "MT_P",
   "language": "python",
   "name": "python3"
  },
  "language_info": {
   "codemirror_mode": {
    "name": "ipython",
    "version": 3
   },
   "file_extension": ".py",
   "mimetype": "text/x-python",
   "name": "python",
   "nbconvert_exporter": "python",
   "pygments_lexer": "ipython3",
   "version": "3.10.13"
  }
 },
 "nbformat": 4,
 "nbformat_minor": 2
}
