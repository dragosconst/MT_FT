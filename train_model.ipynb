{
 "cells": [
  {
   "cell_type": "code",
   "execution_count": 1,
   "metadata": {},
   "outputs": [
    {
     "name": "stderr",
     "output_type": "stream",
     "text": [
      "/home/dragos/miniforge3/envs/deep-learning/lib/python3.10/site-packages/tqdm/auto.py:21: TqdmWarning: IProgress not found. Please update jupyter and ipywidgets. See https://ipywidgets.readthedocs.io/en/stable/user_install.html\n",
      "  from .autonotebook import tqdm as notebook_tqdm\n"
     ]
    }
   ],
   "source": [
    "from datasets import Dataset\n",
    "import dill as pickle\n",
    "from trl import DataCollatorForCompletionOnlyLM\n",
    "\n",
    "alpaca_like_dataset = None\n",
    "with open('data/dataset_llama_l1.pkl', 'rb') as f:\n",
    "    alpaca_like_dataset = pickle.load(f)\n",
    "shuffled_alpaca = alpaca_like_dataset.shuffle(seed=1337)"
   ]
  },
  {
   "cell_type": "code",
   "execution_count": 2,
   "metadata": {},
   "outputs": [
    {
     "name": "stderr",
     "output_type": "stream",
     "text": [
      "Loading checkpoint shards: 100%|██████████| 2/2 [00:03<00:00,  1.56s/it]\n"
     ]
    }
   ],
   "source": [
    "from transformers import AutoModelForCausalLM, AutoTokenizer, Trainer, TrainingArguments, DataCollatorForLanguageModeling, AutoConfig, PretrainedConfig, BitsAndBytesConfig\n",
    "from unsloth import FastLanguageModel\n",
    "import torch\n",
    "\n",
    "\n",
    "# model_name = \"meta-llama/Llama-2-7b-hf\"\n",
    "# model_name = \"mesolitica/llama-1b-hf-32768-fpf\"\n",
    "# model_name = \"mistralai/Mistral-7B-Instruct-v0.2\"\n",
    "model_name = \"meta-llama/Llama-2-7b-chat-hf\"\n",
    "\n",
    "kwargs = {'attn_implementation': 'flash_attention_2'}\n",
    "CTX_LEN = 4096\n",
    "LOAD_4BIT = False\n",
    "LOAD_8BIT = True\n",
    "RANK = 32\n",
    "# using unsloth to load the models\n",
    "# model, tokenizer = FastLanguageModel.from_pretrained(\n",
    "#     model_name = model_name, # Supports Llama, Mistral - replace this!\n",
    "#     max_seq_length = CTX_LEN,\n",
    "#     dtype = None,\n",
    "#     load_in_4bit = LOAD_4BIT,\n",
    "#     load_in_8bit = LOAD_8BIT,\n",
    "#     **kwargs\n",
    "# )\n",
    "bnb_config = BitsAndBytesConfig(\n",
    "    load_in_4bit              = True,\n",
    "    bnb_4bit_use_double_quant = True,\n",
    "    bnb_4bit_quant_type       = \"nf4\",\n",
    "    bnb_4bit_compute_dtype    = torch.bfloat16,\n",
    ")\n",
    "model = AutoModelForCausalLM.from_pretrained(model_name,\n",
    "                                             torch_dtype=torch.bfloat16,\n",
    "                                            #  load_in_8bit = LOAD_8BIT,\n",
    "                                             device_map = 'auto',\n",
    "                                            #  quantization_config = bnb_config,\n",
    "                                             attn_implementation = 'flash_attention_2')\n",
    "tokenizer = AutoTokenizer.from_pretrained(model_name)\n",
    "tokenizer.pad_token = tokenizer.eos_token"
   ]
  },
  {
   "cell_type": "code",
   "execution_count": 3,
   "metadata": {},
   "outputs": [
    {
     "name": "stdout",
     "output_type": "stream",
     "text": [
      "trainable params: 33554432 || all params: 6771970048 || trainable%: 0.49548996469513035\n"
     ]
    }
   ],
   "source": [
    "from peft import LoraConfig, get_peft_model\n",
    "\n",
    "def print_trainable_parameters(model):\n",
    "    \"\"\"\n",
    "    Prints the number of trainable parameters in the model.\n",
    "    \"\"\"\n",
    "    trainable_params = 0\n",
    "    all_param = 0\n",
    "    for _, param in model.named_parameters():\n",
    "\n",
    "        all_param += param.numel()\n",
    "        if param.requires_grad:\n",
    "            trainable_params += param.numel()\n",
    "    print(\n",
    "        f\"trainable params: {trainable_params} || all params: {all_param} || trainable%: {100 * trainable_params / all_param}\"\n",
    "    )\n",
    "\n",
    "lora_config = LoraConfig(\n",
    "    r=RANK,\n",
    "    lora_alpha=128,\n",
    "    target_modules=[\"q_proj\", \"o_proj\", \"k_proj\", \"v_proj\"],#, \"gate_proj\", \"up_proj\", \"down_proj\"],\n",
    "    lora_dropout=0.1,\n",
    "    bias=\"none\",\n",
    "    task_type=\"CAUSAL_LM\",\n",
    ")\n",
    "\n",
    "model.enable_input_require_grads()\n",
    "peft_model = get_peft_model(model, lora_config)\n",
    "# peft_model = FastLanguageModel.get_peft_model(\n",
    "#     model,\n",
    "#     r=RANK,\n",
    "#     lora_alpha=128,\n",
    "#     lora_dropout=0,\n",
    "#     target_modules=[\"q_proj\", \"o_proj\", \"k_proj\", \"v_proj\"],\n",
    "#     bias=\"none\",\n",
    "#     max_seq_length=CTX_LEN,\n",
    "#     use_gradient_checkpointing=True\n",
    "# )\n",
    "print_trainable_parameters(model)"
   ]
  },
  {
   "cell_type": "code",
   "execution_count": 4,
   "metadata": {},
   "outputs": [],
   "source": [
    "def formatting_prompts_func(example):\n",
    "    output_texts = []\n",
    "    for i in range(len(example)):\n",
    "        output_texts.append(example['text'])\n",
    "    return output_texts\n",
    "response_format = '[/INST]\\n'\n",
    "\n",
    "collator = DataCollatorForCompletionOnlyLM(response_format, tokenizer=tokenizer)"
   ]
  },
  {
   "cell_type": "code",
   "execution_count": 5,
   "metadata": {},
   "outputs": [
    {
     "name": "stderr",
     "output_type": "stream",
     "text": [
      "Failed to detect the name of this notebook, you can set it manually with the WANDB_NOTEBOOK_NAME environment variable to enable code saving.\n"
     ]
    },
    {
     "name": "stderr",
     "output_type": "stream",
     "text": [
      "\u001b[34m\u001b[1mwandb\u001b[0m: Currently logged in as: \u001b[33mtantarudragos\u001b[0m (\u001b[33mdtant\u001b[0m). Use \u001b[1m`wandb login --relogin`\u001b[0m to force relogin\n"
     ]
    },
    {
     "data": {
      "text/html": [
       "wandb version 0.16.2 is available!  To upgrade, please run:\n",
       " $ pip install wandb --upgrade"
      ],
      "text/plain": [
       "<IPython.core.display.HTML object>"
      ]
     },
     "metadata": {},
     "output_type": "display_data"
    },
    {
     "data": {
      "text/html": [
       "Tracking run with wandb version 0.16.1"
      ],
      "text/plain": [
       "<IPython.core.display.HTML object>"
      ]
     },
     "metadata": {},
     "output_type": "display_data"
    },
    {
     "data": {
      "text/html": [
       "Run data is saved locally in <code>/home/dragos/MT_FT/wandb/run-20240115_190436-gxlswnrk</code>"
      ],
      "text/plain": [
       "<IPython.core.display.HTML object>"
      ]
     },
     "metadata": {},
     "output_type": "display_data"
    },
    {
     "data": {
      "text/html": [
       "Syncing run <strong><a href='https://wandb.ai/dtant/master/runs/gxlswnrk' target=\"_blank\">ancient-surf-354</a></strong> to <a href='https://wandb.ai/dtant/master' target=\"_blank\">Weights & Biases</a> (<a href='https://wandb.me/run' target=\"_blank\">docs</a>)<br/>"
      ],
      "text/plain": [
       "<IPython.core.display.HTML object>"
      ]
     },
     "metadata": {},
     "output_type": "display_data"
    },
    {
     "data": {
      "text/html": [
       " View project at <a href='https://wandb.ai/dtant/master' target=\"_blank\">https://wandb.ai/dtant/master</a>"
      ],
      "text/plain": [
       "<IPython.core.display.HTML object>"
      ]
     },
     "metadata": {},
     "output_type": "display_data"
    },
    {
     "data": {
      "text/html": [
       " View run at <a href='https://wandb.ai/dtant/master/runs/gxlswnrk' target=\"_blank\">https://wandb.ai/dtant/master/runs/gxlswnrk</a>"
      ],
      "text/plain": [
       "<IPython.core.display.HTML object>"
      ]
     },
     "metadata": {},
     "output_type": "display_data"
    }
   ],
   "source": [
    "import wandb\n",
    "import datetime\n",
    "def do_wandb_stuff():\n",
    "    wandb_id = wandb.util.generate_id()\n",
    "    wandb.init(\n",
    "        # set the wandb project where this run will be logged\n",
    "        project=\"master\",\n",
    "        \n",
    "        # specify id\n",
    "        id=wandb_id,\n",
    "\n",
    "        # specify group\n",
    "        group = 'machine_translation',\n",
    "\n",
    "        # track hyperparameters and run metadata\n",
    "        config={\n",
    "            \"learning_rate\": 3e-4,\n",
    "            \"architecture\": model_name,\n",
    "            \"architecture_short\": model_name,\n",
    "            \"dataset\": 'newsela',\n",
    "            \"rank\": RANK,\n",
    "            \"ctx\": CTX_LEN,\n",
    "            \"4bit\": LOAD_4BIT,\n",
    "            \"8bit\": LOAD_8BIT,\n",
    "            \"logging_steps\": 10,\n",
    "            'warmup_ratio': 0.05\n",
    "        }\n",
    "    )\n",
    "    wandb.run.name = (\n",
    "        f'{wandb.config[\"architecture_short\"]}_'\n",
    "        f'{wandb.config[\"dataset\"]}_'\n",
    "        f'rank={wandb.config[\"rank\"]}_'\n",
    "        f'ctx={wandb.config[\"ctx\"]}_'\n",
    "        f'4bit={wandb.config[\"4bit\"]}_'\n",
    "        f'8bit={wandb.config[\"8bit\"]}_'\n",
    "        f'{wandb.config[\"warmup_ratio\"]}_'\n",
    "        f'{datetime.datetime.now().strftime(\"%Y-%m-%d-%H-%M-%S\")}'\n",
    "    )\n",
    "\n",
    "do_wandb_stuff()"
   ]
  },
  {
   "cell_type": "code",
   "execution_count": 6,
   "metadata": {},
   "outputs": [
    {
     "data": {
      "text/plain": [
       "{'id': 'time-popefrancis.en.0.txt',\n",
       " 'instruction': 'Simplify the text',\n",
       " 'input': '<img class=\"pull-right\" src=\"https://newsela-test-files-f331e.s3.amazonaws.com/article_media/extra/Time_Person_Of_The_Ye_Edit.jpg\" />NEW YORK — Time magazine selected Pope Francis as its Person of the Year on Wednesday, saying the Catholic Church\\'s new leader has changed the perception of the 2,000-year-old institution in an extraordinary way in a short time.\\n\\nThe [pope](https://www.newsela.com/?tag=pope) beat out NSA leaker Edward Snowden for the distinction, which the newsmagazine has been giving each year since 1927.\\n\\nThe former Argentine Cardinal Jorge Mario Bergoglio was elected in March as the first pope from Latin America and the first Jesuit. Since taking over at the Vatican, he has urged the Catholic Church not to be obsessed with \"small-minded rules\" and to emphasize compassion over condemnation in dealing with touchy topics like abortion, gays and contraception.\\n\\nHe has denounced the world\\'s \"idolatry of money\" and the \"global scandal\" that nearly 1 billion people today go hungry, and has charmed the masses with his simple style and wry sense of humor. His appearances draw tens of thousands of people and his @Pontifex Twitter account recently topped 10 million followers.\\n\\n\"He really stood out to us as someone who has changed the tone and the perception and the focus of one of the world\\'s largest institutions in an extraordinary way,\" said Nancy Gibbs, the magazine\\'s managing editor.\\n\\nThe Vatican said the honor wasn\\'t surprising given the resonance in the general public that Francis has had, but it nevertheless said the choice was a \"positive\" recognition of spiritual values in the international media.\\n\\n\"The Holy Father is not looking to become famous or to receive honors,\" said the Vatican spokesman, the Rev. Federico Lombardi. \"But if the choice of Person of Year helps spread the message of the Gospel — a message of God\\'s love for everyone — he will certainly be happy about that.\"\\n\\nIt was the third time a Catholic pope had been Time\\'s selection. John Paul II was selected in 1994 and John XXIII was chosen in 1962.\\n\\nIn Argentina on Wednesday, Padre Toto, one of the many \"slum priests\" the pope supported for years as archbishop of Buenos Aires, praised Time magazine\\'s selection.\\n\\n\"I think the recognition of Time magazine is good news, because Pope Francis embodies one of the values of a church that\\'s more missionary, closer to the people, more austere, more in keeping with the gospel,\" Toto said. \"He had the genius of knowing how to express this sense of the church and hopefully his way of being will catch on with other political leaders, business executives, sports figures. His leadership is inspiring.\"\\n\\nBesides Snowden, Time had narrowed its finalists down to gay rights activist Edith Windsor, U.S. Sen. Ted Cruz of Texas and Syrian President Bashar Assad.\\n\\nPresident Barack Obama was Time\\'s selection for 2012.\\n\\nTime editors make the selection. The magazine polled readers for their choice, and the winner was Egyptian General Abdel-Fattah el-Sissi, who didn\\'t even make the top 10 of Time\\'s final list.',\n",
       " 'output': '<img class=\"pull-right\" src=\"https://newsela-test-files-f331e.s3.amazonaws.com/article_media/extra/Time_Person_Of_The_Ye_Edit.jpg\" />NEW YORK — Time magazine selected Pope Francis as its Person of the Year on Wednesday. The newsmagazine said the Roman Catholic Church\\'s new leader has changed how people see the 2,000-year-old institution in an extraordinary way in a short time.\\n\\nThe [pope](https://www.newsela.com/?tag=pope) beat out NSA leaker Edward Snowden for the distinction, which the newsmagazine has been giving each year since 1927.\\n\\nThe former Argentine Cardinal Jorge Mario Bergoglio was elected in March as the first pope from Latin America. He was also the first Jesuit to be elected pope. Jesuits are a group of priests who are active in areas such as education and social justice. Bergoglio took the name Francis when he became pope in honor of Francis of Assisi, the patron saint of the poor.\\n\\nSince taking over at the Vatican, he has urged the Catholic Church not to be obsessed with \"small-minded rules\" and to emphasize compassion over condemnation in dealing with touchy topics. Some of those subjects are birth control, homosexuality and abortion.\\n\\n## His Simple Style\\n\\nPope Francis has denounced the world\\'s \"idolatry of money\" and the \"global scandal\" that nearly 1 billion people today go hungry. He\\'s also charmed the masses with his simple style and wry sense of humor. His appearances draw tens of thousands of people and his @Pontifex Twitter account recently topped 10 million followers.\\n\\n\"He really stood out to us as someone who has changed the tone and the perception and the focus of one of the world\\'s largest institutions in an extraordinary way,\" said Nancy Gibbs, the magazine\\'s managing editor.\\n\\nThe Vatican, where the Roman Catholic Church is headquartered, said the honor wasn\\'t surprising given the resonance in the general public that Francis has had. It also said the choice was a \"positive\" recognition of spiritual values in the international media.\\n\\n\"The Holy Father is not looking to become famous or to receive honors,\" said the Vatican spokesman, the Rev. Federico Lombardi. \"But if the choice of Person of Year helps spread the message of the Gospel — a message of God\\'s love for everyone — he will certainly be happy about that.\"\\n\\nIt was the third time a Catholic pope had been Time\\'s selection. John Paul II was selected in 1994 and John XXIII was chosen in 1962.\\n\\n## A More Missionary Church\\n\\nIn Argentina on Wednesday, Padre Toto, one of the many \"slum priests\" the pope supported for years when he was archbishop of Buenos Aires, praised Time\\'s selection.\\n\\n\"I think the recognition of Time magazine is good news, because Pope Francis embodies one of the values of a church that\\'s more missionary, closer to the people, more austere, more in keeping with the Gospel,\" Toto said.\\n\\n\"He had the genius of knowing how to express this sense of the church and hopefully his way of being will catch on with other political leaders, business executives, sports figures. His leadership is inspiring,\" he said.\\n\\nBesides Snowden, Time had narrowed its finalists down to gay rights activist Edith Windsor, U.S. Sen. Ted Cruz of Texas and Syrian President Bashar Assad.\\n\\nPresident Barack Obama was Time\\'s selection for 2012.',\n",
       " 'text': '[INST] <<SYS>>\\n        You are a very helpful assistant, that is highly skilled at simpflying complex english texts. Answer any query correctly.\\n        <</SYS>>\\n        \\n        Slightly simplify the following text, as to make it more accesible:\\n        NEW YORK — Time magazine selected Pope Francis as its Person of the Year on Wednesday, saying the Catholic Church\\'s new leader has changed the perception of the 2,000-year-old institution in an extraordinary way in a short time.\\n\\nThe [pope] beat out NSA leaker Edward Snowden for the distinction, which the newsmagazine has been giving each year since 1927.\\n\\nThe former Argentine Cardinal Jorge Mario Bergoglio was elected in March as the first pope from Latin America and the first Jesuit. Since taking over at the Vatican, he has urged the Catholic Church not to be obsessed with \"small-minded rules\" and to emphasize compassion over condemnation in dealing with touchy topics like abortion, gays and contraception.\\n\\nHe has denounced the world\\'s \"idolatry of money\" and the \"global scandal\" that nearly 1 billion people today go hungry, and has charmed the masses with his simple style and wry sense of humor. His appearances draw tens of thousands of people and his @Pontifex Twitter account recently topped 10 million followers.\\n\\n\"He really stood out to us as someone who has changed the tone and the perception and the focus of one of the world\\'s largest institutions in an extraordinary way,\" said Nancy Gibbs, the magazine\\'s managing editor.\\n\\nThe Vatican said the honor wasn\\'t surprising given the resonance in the general public that Francis has had, but it nevertheless said the choice was a \"positive\" recognition of spiritual values in the international media.\\n\\n\"The Holy Father is not looking to become famous or to receive honors,\" said the Vatican spokesman, the Rev. Federico Lombardi. \"But if the choice of Person of Year helps spread the message of the Gospel — a message of God\\'s love for everyone — he will certainly be happy about that.\"\\n\\nIt was the third time a Catholic pope had been Time\\'s selection. John Paul II was selected in 1994 and John XXIII was chosen in 1962.\\n\\nIn Argentina on Wednesday, Padre Toto, one of the many \"slum priests\" the pope supported for years as archbishop of Buenos Aires, praised Time magazine\\'s selection.\\n\\n\"I think the recognition of Time magazine is good news, because Pope Francis embodies one of the values of a church that\\'s more missionary, closer to the people, more austere, more in keeping with the gospel,\" Toto said. \"He had the genius of knowing how to express this sense of the church and hopefully his way of being will catch on with other political leaders, business executives, sports figures. His leadership is inspiring.\"\\n\\nBesides Snowden, Time had narrowed its finalists down to gay rights activist Edith Windsor, U.S. Sen. Ted Cruz of Texas and Syrian President Bashar Assad.\\n\\nPresident Barack Obama was Time\\'s selection for 2012.\\n\\nTime editors make the selection. The magazine polled readers for their choice, and the winner was Egyptian General Abdel-Fattah el-Sissi, who didn\\'t even make the top 10 of Time\\'s final list.\\n        [/INST]\\nThe slightly simplified version is:\\n\\n        NEW YORK — Time magazine selected Pope Francis as its Person of the Year on Wednesday. The newsmagazine said the Roman Catholic Church\\'s new leader has changed how people see the 2,000-year-old institution in an extraordinary way in a short time.\\n\\nThe [pope] beat out NSA leaker Edward Snowden for the distinction, which the newsmagazine has been giving each year since 1927.\\n\\nThe former Argentine Cardinal Jorge Mario Bergoglio was elected in March as the first pope from Latin America. He was also the first Jesuit to be elected pope. Jesuits are a group of priests who are active in areas such as education and social justice. Bergoglio took the name Francis when he became pope in honor of Francis of Assisi, the patron saint of the poor.\\n\\nSince taking over at the Vatican, he has urged the Catholic Church not to be obsessed with \"small-minded rules\" and to emphasize compassion over condemnation in dealing with touchy topics. Some of those subjects are birth control, homosexuality and abortion.\\n\\n## His Simple Style\\n\\nPope Francis has denounced the world\\'s \"idolatry of money\" and the \"global scandal\" that nearly 1 billion people today go hungry. He\\'s also charmed the masses with his simple style and wry sense of humor. His appearances draw tens of thousands of people and his @Pontifex Twitter account recently topped 10 million followers.\\n\\n\"He really stood out to us as someone who has changed the tone and the perception and the focus of one of the world\\'s largest institutions in an extraordinary way,\" said Nancy Gibbs, the magazine\\'s managing editor.\\n\\nThe Vatican, where the Roman Catholic Church is headquartered, said the honor wasn\\'t surprising given the resonance in the general public that Francis has had. It also said the choice was a \"positive\" recognition of spiritual values in the international media.\\n\\n\"The Holy Father is not looking to become famous or to receive honors,\" said the Vatican spokesman, the Rev. Federico Lombardi. \"But if the choice of Person of Year helps spread the message of the Gospel — a message of God\\'s love for everyone — he will certainly be happy about that.\"\\n\\nIt was the third time a Catholic pope had been Time\\'s selection. John Paul II was selected in 1994 and John XXIII was chosen in 1962.\\n\\n## A More Missionary Church\\n\\nIn Argentina on Wednesday, Padre Toto, one of the many \"slum priests\" the pope supported for years when he was archbishop of Buenos Aires, praised Time\\'s selection.\\n\\n\"I think the recognition of Time magazine is good news, because Pope Francis embodies one of the values of a church that\\'s more missionary, closer to the people, more austere, more in keeping with the Gospel,\" Toto said.\\n\\n\"He had the genius of knowing how to express this sense of the church and hopefully his way of being will catch on with other political leaders, business executives, sports figures. His leadership is inspiring,\" he said.\\n\\nBesides Snowden, Time had narrowed its finalists down to gay rights activist Edith Windsor, U.S. Sen. Ted Cruz of Texas and Syrian President Bashar Assad.\\n\\nPresident Barack Obama was Time\\'s selection for 2012.\\n        </s>'}"
      ]
     },
     "execution_count": 6,
     "metadata": {},
     "output_type": "execute_result"
    }
   ],
   "source": [
    "shuffled_alpaca[0]"
   ]
  },
  {
   "cell_type": "code",
   "execution_count": 7,
   "metadata": {},
   "outputs": [],
   "source": [
    "args = TrainingArguments(\n",
    "    per_device_train_batch_size=1,\n",
    "    gradient_accumulation_steps=8,\n",
    "    gradient_checkpointing=True, # comment with unsloth\n",
    "    optim=\"adamw_torch\",\n",
    "    logging_steps=10,\n",
    "    learning_rate=3e-4,\n",
    "    bf16=True,\n",
    "    max_grad_norm=1,\n",
    "    num_train_epochs=1,\n",
    "    warmup_ratio=0.05,\n",
    "    save_strategy=\"steps\",\n",
    "    save_steps=40,\n",
    "    group_by_length=True,\n",
    "    output_dir='output/',\n",
    "    report_to=\"wandb\",\n",
    "    save_safetensors=True,\n",
    "    lr_scheduler_type=\"cosine\",\n",
    "    seed=1337,\n",
    ")"
   ]
  },
  {
   "cell_type": "code",
   "execution_count": 8,
   "metadata": {},
   "outputs": [
    {
     "name": "stderr",
     "output_type": "stream",
     "text": [
      "Map:   0%|          | 0/1910 [00:00<?, ? examples/s]"
     ]
    },
    {
     "name": "stderr",
     "output_type": "stream",
     "text": [
      "Map: 100%|██████████| 1910/1910 [00:02<00:00, 949.98 examples/s]\n"
     ]
    }
   ],
   "source": [
    "from trl import SFTTrainer\n",
    "trainer = SFTTrainer(\n",
    "    model=peft_model,\n",
    "    train_dataset=shuffled_alpaca,\n",
    "    # peft_config=lora_config,\n",
    "    dataset_text_field=\"text\",\n",
    "    max_seq_length=4096,\n",
    "    tokenizer=tokenizer,\n",
    "    args=args,\n",
    "    data_collator=collator,\n",
    ")"
   ]
  },
  {
   "cell_type": "code",
   "execution_count": 9,
   "metadata": {},
   "outputs": [
    {
     "name": "stderr",
     "output_type": "stream",
     "text": [
      "  0%|          | 0/238 [00:00<?, ?it/s]`use_cache=True` is incompatible with gradient checkpointing. Setting `use_cache=False`...\n",
      "  1%|          | 2/238 [01:02<2:02:16, 31.09s/it]/home/dragos/miniforge3/envs/deep-learning/lib/python3.10/site-packages/trl/trainer/utils.py:127: UserWarning: Could not find response key `[/INST]\n",
      "` in the following instance: <s> [INST] <<SYS>>\n",
      "        You are a very helpful assistant, that is highly skilled at simpflying complex english texts. Answer any query correctly.\n",
      "        <</SYS>>\n",
      "        \n",
      "        Slightly simplify the following text, as to make it more accesible:\n",
      "        WILLISTON, N.D. — It's been a long day for Andrew Klefstad. And a long four years.\n",
      "\n",
      "At dawn, he coaxed milk from the cows in his father Roger's barn below a pink and turquoise sunrise and lush green hillsides near Ridgeland, Wis. Then he went back to work, restoring the century-old farmhouse that will soon become his young family's home.\n",
      "\n",
      "Now it's 11 p.m., and his wife, Tiffany, is reaching up to wrap her arms around his neck, kissing him goodbye after a 90-mile drive from the farm to the Amtrak depot in St. Paul.\n",
      "\n",
      "A duffel bag slung over his shoulder, Klefstad searches for a seat. More than 54,000 passengers last year rode this 12-hour, overnight train to the Bakken oil fields near Williston — more than doubling the passenger volume since North Dakota's latest oil boom began.\n",
      "\n",
      "A bear of a guy at 6 foot 5 and 290 pounds, Klefstad puts in his earbuds and pulls his brimmed cap over his eyes. He's out cold before the train cuts through the darkness west of Minneapolis, falling asleep to the songs of Blink-182.\n",
      "\n",
      "Thick arms, festooned with angel tattoos, crisscross his chest. A tiny beaded bracelet clings to his wrist. His 7-year-old son, Kelvin, made it with yellow and black beads, spelling out D-A-D amid Xs and Os, and sent it to him in Williston with a letter pleading: \"Come home, Dad.\"\n",
      "\n",
      "\"I was like four days away from coming home,\" Klefstad recalled later. \"I just started bawling.\"\n",
      "\n",
      "Klefstad's westward train was hurtling toward a landscape like nothing America has seen for decades: Once-sleepy prairie towns now teem with high-paying jobs from a runaway economy rising up amid its lowing cattle and treeless hills.\n",
      "\n",
      "He's part of a huge army of migrants, mostly young men, now pouring into these sparse plains where the science of hydraulic fracturing has jump-started the global energy game. Fracking is unleashing billions of barrels of oil no longer trapped 2 miles deep in North Dakota's shale.\n",
      "\n",
      "Like gold prospectors bound for California in 1849 and their Dust Bowl descendants who followed during the Depression, or waves of rural, Southern blacks flocking northward to industrial Chicago and Detroit after World War II, today's modern migration is epic.\n",
      "\n",
      "But it's also different. Klefstad and his ilk aren't packing up their families to escape tough times and search out new opportunity. They're part of a swinging-door, here-today, home-next-month turnstile migration.\n",
      "\n",
      "And amid the back-and-forth lurching, Andrew Klefstad is grappling with a hard truth: This modern-day gold rush comes with golden handcuffs.\n",
      "\n",
      "Like so many fortune seekers out here, the recession left him scrambling to find work five years ago. His father couldn't afford to pay him back on the dairy farm. Business had dried up for the industrial cleanup company he worked for in Cannon Falls, Minn.\n",
      "\n",
      "So he lit out to North Dakota. Halliburton, the global energy industry giant, put him right to work. Now, at only 28 with no college degree, he's earning more than $100,000 a year as the general manager of Mirror Image Environmental Services. He's cleaning up spills and washing tons of sludge off the countless trucks pounding down the red-clay roads that connect the drilling rigs, nodding wells, railheads and gas flares that riddle western North Dakota.\n",
      "\n",
      "Klefstad spends three weeks working sunup to sundown, then gets back on the train for a week with Tiffany, Kelvin and daughter Avery back in western Wisconsin. The brutal-but-profitable lifestyle leaves legions of workers juggling split lives of long hours and dislocating separation.\n",
      "\n",
      "Klefstad insists he's out here only until the loans are paid off. His goal is to be debt-free by 40, if not sooner, something his father laughs about back on the farm.\n",
      "\n",
      "\"I have more debt now than I did at 25,\" says Roger, 63.\n",
      "\n",
      "Since Klefstad began crawling into frac trucks to scour off chemicals, he has helped build his company into a player among the companies cleaning up the Bakken. He's also become a Fagin of sorts from the \"Oliver Twist\" story — overseeing more than a dozen kids working for him. Most are right out of high schools in Montana and Wisconsin.\n",
      "\n",
      "For much of the year, they've crammed three to a bedroom in a ramshackle house on a leafy Williston residential block. His firm paid a staggering $8,000-a-month to rent the dump in Williston.\n",
      "\n",
      "He's steering his Cusco 28-0 \"cyclone supersucker\" truck, cutting south through the vast oil fields toward Dickinson, N.D., more than two hours away. To call the Bakken formation an \"oil patch\" is deceiving. It covers roughly 20,000 square miles — about the size of West Virginia.\n",
      "\n",
      "The 8-plus billion barrels of sweet crude oil in the shale is not merely 2 miles deep in the earth. It's spread out beneath a sprawling swath of lightly populated terrain, ranging clockwise from northeastern Montana more than 100 miles across the Canadian border into Manitoba and Saskatchewan, then another 180 miles south toward Dickinson.\n",
      "\n",
      "Fracking has taken the guesswork out of drilling, vaulting North Dakota into second place behind Texas in U.S. oil production. With the arrival of workers doubling and tripling populations of towns such as Williston and Watford City, the state is the fastest growing in the country.\n",
      "\n",
      "Most workers flooding into western North Dakota come and go like Klefstad, working weeks in the oil fields before taking breaks to bring their paychecks home, then boomeranging back for more 100-hour weeks.\n",
      "\n",
      "They spend much of their time doing what Klefstad is doing on this clear-sky Sunday morning: driving for hours between far-flung job sites. Much of the Bakken is flat and featureless, but Klefstad pilots his massive vacuum-tanker truck across a landscape of subtle beauty — climbing from rolling grasslands that suddenly turn into the canyons, ravines and buttes of Theodore Roosevelt National Park.\n",
      "\n",
      "In Dickinson, he pulls up to a giant truck wash with towering bays off an exit of Interstate 94. Dozens of trucks deposit 20 tons a week of accumulated sludge through grates to the underground pit below.\n",
      "\n",
      "Klefstad grabs a hard hat and a shovel and steps into a yellow hazardous-materials jumpsuit. One of his young charges, Jarred Schandelmeier of Sheridan, Mont., operates a forklift to raise the grate and connects an anaconda-size hose to the tank of the supersucker truck. The other end goes to Klefstad through the opening above the dark 8-foot-by-8-foot sludge collection cave.\n",
      "\n",
      "Wearing a harness tethered to a cable that could hoist him out if things go wrong, Klefstad lowers himself into the pit. It's called a confined space entry.\n",
      "\n",
      "The thrumming noise of the truck's vacuum is deafening. The smell, a noxious blend of chemicals and feces, is thick. Prairie dust from a recent dry spell coats everything.\n",
      "\n",
      "Using what little light filters through the opening, Klefstad sucks the oily muck and grime out of the bowels of the truck wash, into his supersucker truck and eventually a dumpster out back that will be disposed of in a nearby landfill.\n",
      "\n",
      "The work takes hours. Klefstad finally emerges — his jumpsuit splattered with ooze. Like a pig in slop, he's grinning.\n",
      "\n",
      "\"Maybe it's the level of danger, but I do love it,\" he says. \"We keep the Bakken running.\"\n",
      "\n",
      "Sometimes, his Android phone rings in the middle of the night and he wakes his crew to clean up massive, 200,000-gallon chemical spills on remote drilling sites.\n",
      "\n",
      "Other times, it's 130 degrees in a tanker truck and Klefstad needs a full suit, an oxygen tank and a respirator for six hours.\n",
      "\n",
      "\"You come out of the confined entry caked with soot and mud, but if you love to work hard, you can make good money doing this.\"\n",
      "\n",
      "That's his prime motivation.\n",
      "\n",
      "\"I don't see any reason to sugarcoat it,\" he says. \"I don't think anybody's out here because they want to be.\"\n",
      "\n",
      "The green split-level house in Williston is nestled mid-block in a nice neighborhood on the west side of town. A judge lives a few doors down. But the house is in rough shape.\n",
      "\n",
      "The front door is barred with furniture. Exposed, clipped wires dangle from ceilings and walls. Eight oil-field workers stay here rent-free, but the company pays $8,000 a month to a series of people who have sublet it from the owner, who lives four houses down.\n",
      "\n",
      "The whopping housing costs in Williston and surrounding towns often offset the hefty wages.\n",
      "\n",
      "Klefstad has tried to get to know his neighbors, but they shoot back looks full of disdain, eye rolls that belie the rift between Willistonians and oil-field guys.\n",
      "\n",
      "\"They don't like us very much because we come and go at all hours of the night,\" he said. \"But we try to be respectful.\"\n",
      "\n",
      "Kayla Williams lives a few houses down with her husband, Eli, their 8-year-old daughter, Kaydance, and their dog, Marley.\n",
      "\n",
      "\"Everyone on this block is from Williston except one house, and guess which one that is?\" she says. \"I don't think they're rude or obnoxious, but we can only park on one side of this street and they have like six pickup trucks.\"\n",
      "\n",
      "Eli, 30, grew up in the yellow house across the street from Klefstad's and purchased the corner house, pre-boom, for $140,000 six years ago. It's now valued at more than $250,000, and he makes nearly that much a year working for Weatherford, a Swiss-based oil-field services firm. So he and his wife are far from anti-oil.\n",
      "\n",
      "\"But all these guys who come out here and make good money, only to take it home, without paying taxes here or helping our schools,\" she says. \"Well, that's a hard pill to swallow.\"\n",
      "\n",
      "Klefstad's kitchen includes a large whiteboard with a grid of calendar dates, crew member names and oil-field servicing companies such as Schlumberger and Halliburton. As the boss, Klefstad has his own room upstairs. There's a large mattress on the floor, a big TV for video games and a pile of dirty clothes jammed on a shelf closet.\n",
      "\n",
      "It's one of the few things upon which Tiffany insists: Keep your dirty clothes in North Dakota.\n",
      "\n",
      "On this rare day off — the transmission went out in his pickup — Klefstad is down in a dark basement bedroom where three of his crew members sleep. They're removing sludge and cleaning muck. Their backpacks sit on unmade beds amid food wrappers and empty bottles of Mountain Dew.\n",
      "\n",
      "Klefstad fiddles with the knobs on an electric guitar amplifier, creating a buzz of feedback.\n",
      "\n",
      "\"I'm not even sure who this belongs to,\" he says. \"I think it was one of our guys who got homesick and quit and just left it after like three days.\"\n",
      "\n",
      "He picks up an electric guitar and sings \"Guardian Angel\" from a band named the Red Jumpsuit Apparatus. His voice and strumming echo off the basement's plaster walls.\n",
      "\n",
      "\"Tiffany likes that one,\" he says, as the buzzing quiets.\n",
      "\n",
      "Music brought Andrew and Tiffany together. He played tuba for the Prairie Farm High School band back in Wisconsin.\n",
      "\n",
      "\"Shhh,\" he says, eyes darting upstairs where other crew members are talking. \"They don't know about my tuba playing.\"\n",
      "\n",
      "Tiffany played French horn at nearby Clear Lake High. They were both good enough to make the all-conference band. They became good friends and began dating when she was a senior and he was a junior.\n",
      "\n",
      "They were married on a rainy October day at their local Ridgeland church as the Wisconsin trees flashed golden and red. Kelvin, now an avid collector of frogs, made them a family, and Avery followed three years later.\n",
      "\n",
      "Longtime Williston Mayor Ward Koeser says \"it's critical to have families here\" if Williston is going to evolve with its oil industry. He says all the workers fueling frac trucks and cleaning sludge, only to depart with their paychecks for homes in Wisconsin, Oklahoma, Montana and Minnesota, leave his community on wobbly footing.\n",
      "\n",
      "\"When you have thousands of workers staying in man camps, you can't build a community,\" the mayor says. \"You have no teenagers to work at McDonald's, no spouses to work as nurses at the hospital.\"\n",
      "\n",
      "Halliburton and others have started building fully furnished townhouses to woo families to join their oil workers, convinced of the Bakken's staying power as new government studies insist there's at least twice as much oil under North Dakota as earlier predicted.\n",
      "\n",
      "But Klefstad shakes his head at the notion of bringing his family here. Though he recently moved into a newer townhouse, he bristles at the thought of Tiffany walking through the aisles at the Williston Wal-Mart, where oil-field workers have been known to leer — or worse.\n",
      "\n",
      "\"I just can't see having my family here, and no way would I let her go to Wal-Mart — it isn't safe enough,\" he says. \"It just doesn't seem like there's any type of connection with anybody. Everyone is here for their own self, doing their own thing and then going home.\"\n",
      "\n",
      "For the first few days of his three-week stints in North Dakota, Klefstad is constantly on his phone, Google-talking with Tiffany about the house, the kids, the well. Then he'll get busy on a project and the phone time dwindles.\n",
      "\n",
      "\"All of a sudden, I disappear into work mode for two weeks and then I'll stop myself and say, 'Hey, I'm going home in three days … ' \"\n",
      "\n",
      "The psychological roller coaster, he says, is more wearing than the physical toll of his job. Back in Ridgeland, Tiffany is too busy to fret. She's chasing the kids, getting the well connected, painting Avery's room in a princess theme with glow-in-the-dark dragonflies and sparkled pink and purple walls.\n",
      "\n",
      "\"I look at this as something Andrew likes to do and does a really good job at,\" she says. \"I just keep thinking there's a light at the end of the tunnel here, and it's coming shortly. Even if you don't call a couple years short, it's short.\"\n",
      "\n",
      "The kids miss their dad but they've grown up with him being away in North Dakota, so that's all they know.\n",
      "\n",
      "\"I've missed so much that I'm never going to get back,\" he says. \"But I've got my part to play and she's got hers.\"\n",
      "\n",
      "They talk, Andrew and Tiffany, about where they want to be five and 10 years down the road. When Tiffany said it would be nice to be debt-free by 40, Andrew said: \"I can do that. And I will.\"\n",
      "\n",
      "As summer trains grew crowded with vacationers, Klefstad persuaded his company to start springing for sleeper compartments on the rides home from Williston. Tiffany picks him up with a long hug around 7 a.m. and it's back to the pot at the end of this rainbow.\n",
      "\n",
      "They plunked down $85,000 of sludge cleanup money to buy the abandoned farmhouse on 2 acres a couple of miles from his folks' dairy farm.\n",
      "\n",
      "The carpeting recently went This instance will be ignored in loss calculation. Note, if this happens often, consider increasing the `max_seq_length`.\n",
      "  warnings.warn(\n",
      "/home/dragos/miniforge3/envs/deep-learning/lib/python3.10/site-packages/trl/trainer/utils.py:127: UserWarning: Could not find response key `[/INST]\n",
      "` in the following instance: <s> [INST] <<SYS>>\n",
      "        You are a very helpful assistant, that is highly skilled at simpflying complex english texts. Answer any query correctly.\n",
      "        <</SYS>>\n",
      "        \n",
      "        Slightly simplify the following text, as to make it more accesible:\n",
      "        IMMOKALEE, Fla. — Sweat drenched his long-sleeve shirt and soaked his thick black hair. Lucas Benitez, 17, quick on his feet and newly arrived from Mexico, finished staking a row of tomatoes on a scorched southwest Florida farm and stopped to wait for his co-workers to catch up.\n",
      "\n",
      "Benitez recalled how his supervisor drove a pickup closer to confront him. He wanted Benitez to help unload a truck instead of taking a time-wasting break. But even more, the boss wanted to show who was in control, and it was not the teen.\n",
      "\n",
      "Benitez, 120 pounds, insisted on staying put. Why should he be punished for his speed, when he was accomplishing the same tasks as the rest of the crew? The 200-pound boss threw a punch, but the teen blocked it with one hand, a tomato stake in the other, ready for a fight. He looked the boss in the eye and saw wide-eyed shock.\n",
      "\n",
      "\"It was the first time anyone had said anything to him,\" recalled Benitez, now 40.\n",
      "\n",
      "A farmworker-led movement, with Benitez among its leaders, was about to ignite.\n",
      "\n",
      "Benitez's small act of defiance planted a symbolic seed among tomato farmworkers in Immokalee, an impoverished farm town filled with empty lots, trailer homes, crowing roosters and scrubby palmetto trees. The migrants who sought work each day staking and picking tomatoes were about to take on the farm owners and crew leaders and the corporations that purchased the tomatoes they picked.\n",
      "\n",
      "Those tomatoes arrive almost daily in kitchens and restaurants across the country. Though most Americans don't realize it, almost every Florida tomato they eat comes from a field near Immokalee, just two hours from Fort Lauderdale.\n",
      "\n",
      "The workers who pick tomatoes have spent more than 20 years on a campaign for dignity and fair pay, a campaign that has gained momentum in recent years as more food retailers, such as Fresh Market, sign on. Farmworker advocates are now broadening the campaign to other items in grocery produce departments, including strawberries and peppers.\n",
      "\n",
      "The workers have succeeded, against incredible odds, in getting some of the biggest corporations in the country to recognize their plight.\n",
      "\n",
      "———\n",
      "\n",
      "A bloodied shirt became a symbol that helped awaken the movement.\n",
      "\n",
      "The shirt came to represent the story of Edgar, a 16-year-old tomato worker from Guatemala, who asked his boss for a water break and was refused. When Edgar went to get water anyway, he suffered a savage beating and broken nose.\n",
      "\n",
      "Benitez spread news of the assault, waving the bloodied shirt to rally sleepy Immokalee into a galvanizing protest in 1996\\. \"When you beat one of us, you beat us all,\" he told the crowd.\n",
      "\n",
      "Farmworkers began brainstorming ways to support one another. \"Everyone was in their own world, Mexican, Guatemalan, Haitian,\" Benitez said. \"We were not a community.\"\n",
      "\n",
      "A sense of commonality among the neighbors, segregated by an assortment of languages and countries of origin, began to build.\n",
      "\n",
      "Benitez and seven other workers, mostly young men like himself, began meeting at the Catholic church where many attended Mass, Our Lady Of Guadalupe, a cream-colored set of buildings inside Immokalee's nine-block downtown.\n",
      "\n",
      "They walked door-to-door to poll their neighbors: What changes would you like to see in Immokalee? Are you interested in working toward a solution?\n",
      "\n",
      "They invited neighbors to their Wednesday night meetings at the church. They created a low-power radio station, Radio Conciencia, or \"Radio of Awareness.\" They opened a co-op to offer food and other basics at reasonable prices.\n",
      "\n",
      "They called themselves the Coalition of Immokalee Workers, and they would come to be known as one of the most successful farmworker organizing groups in the country.\n",
      "\n",
      "———\n",
      "\n",
      "In the 1990s, tomato workers were paid about 30 cents for picking a 32-pound bucket of tomatoes, the same wage they earned in 1975, preventing most from earning more than $10,000 a year for back-breaking, dangerous work.\n",
      "\n",
      "Most of the workers are immigrants from Mexico and Central America. Some are undocumented, although the Coalition of Immokalee Workers says the number is unknown. Their uncertain legal status forced many to fear going to the authorities to complain about mistreatment.\n",
      "\n",
      "Some contractors took advantage of this fear. The case of brothers Ramiro and Juan Ramos, convicted of involuntary servitude in 2002, showed the threats workers could face.\n",
      "\n",
      "The Ramos brothers made millions on real estate, grocery and clothing stores, and three harvesting businesses. They also supplied workers to farmers, transporting Mexican immigrants from Arizona to Florida for a $1,000 fee.\n",
      "\n",
      "But according to the FBI, they also \"threatened (the immigrants) at gunpoint, promising torture and death if they tried to escape. And they made them live in filthy, substandard, and overcrowded apartments.\"\n",
      "\n",
      "Pesticide exposure is another danger workers faced.\n",
      "\n",
      "Francisca Herrera was 19 and pregnant when she worked in tomato fields operated by Ag-Mart Produce, famous for its Ugly Ripe and Santa Sweets tomatoes. Her son Carlos Candelario was born in December 2004 with no arms and no legs.\n",
      "\n",
      "Herrera testified in a deposition that workers got little protection from pesticides, sprayed from tractors onto the plants they touched each day. Rules required workers to stay off the field and to wear protective garments, but the rules were rarely enforced, she said.\n",
      "\n",
      "\"Every time they would spray, we would be there picking tomatoes, and we'd feel badly. And then we'd get headaches, earaches. Our eyes would burn,\" Herrera said in the deposition. \"I would get sore throats. I always felt like it burned me and my stomach as well, and I would get a rash on my skin.\"\n",
      "\n",
      "In 2008, the family reached a settlement with Ag-Mart Produce, which admitted no wrongdoing but paid to take care of Carlos' medical needs for life.\n",
      "\n",
      "Evidence was piling up. Grievances were escalating. But change still seemed impossible. How could uneducated tomato workers get anyone to care about their plight?\n",
      "\n",
      "———\n",
      "\n",
      "While some farmers offered small pay increases after workers approached them, most said the highly publicized cases of slavery and pesticide dangers were isolated instances, certainly not connected to their farms.\n",
      "\n",
      "The workers had an epiphany: Why not skip over the farmers and approach the food giants directly? Why negotiate with landowners when it's really the large corporations that have the power as they buy enormous quantities of tomatoes for their grocery shelves, Whoppers and chalupas?\n",
      "\n",
      "At an after-work meeting of the coalition, Benitez said a worker mentioned a newspaper article about Taco Bell's massive purchases of tomatoes at bargain-basement prices. \"Somebody is paying the price for those cheap tomatoes,\" the worker said. \"And that's us.\"\n",
      "\n",
      "Taco Bell was an especially irksome symbol of corporate indifference for the workers: The company's television advertisements featured a sombrero-wearing Chihuahua with a Mexican accent.\n",
      "\n",
      "The workers wrote Taco Bell and invited its brass to Immokalee to show them their dreadful living and working conditions. Benitez said they received no response.\n",
      "\n",
      "The coalition reported this silence at a meeting and asked if anyone had an alternative idea. \"Why don't we organize a boycott?\" a worker asked.\n",
      "\n",
      "\"It sounded crazy,\" Benitez recalled. \"We didn't have any economic resources to do a boycott.\"\n",
      "\n",
      "Who could help them? Many young idealists began streaming into Immokalee when they heard about the workers' struggles.\n",
      "\n",
      "Laura Germino and her husband, Greg Asbed, graduates of Brown University in Rhode Island, moved to South Florida in the mid-1990s after she volunteered for the Peace Corps in Africa, and he worked for a community development organization in Haiti.\n",
      "\n",
      "College students such as Brian Merle Payne, a graduate student in Latin American studies at the University of Florida, joined a 230-mile trek the coalition organized from Fort Myers to Orlando, home base of the Florida Fruit and Vegetable Association.\n",
      "\n",
      "Payne met students from throughout Florida on the march, and together they organized the Student/Farmworker Alliance to support the campaign. He moved to Immokalee and spent 4 1/2 years there.\n",
      "\n",
      "\"There was an energy in the air that things could change,\" said Payne, now 41\\. \"There was a feeling there of the depths of poverty and depression and alcohol and drugs. But the workers were a ray of sunshine, that they could come in and be leaders and change the world around them.\"\n",
      "\n",
      "Coalition members began working with the student participants to organize a series of Taco Bell protests in 2004\\. The students got 22 high schools and colleges to \"Boot the Bell\" and cut contracts with the fast-food giant. Religious leaders also joined the alliance, impressed with its democratic meeting methods, lack of bureaucracy and peaceful approaches. \"They act responsibly and civilly,\" said the Rev. Russell Meyer, executive director of the Florida Council of Churches, based in Tampa. \"They sit down with the entity and build a working relationship.\"\n",
      "\n",
      "Coalition supporters organized boycotts and protests against Taco Bell for four years.\n",
      "\n",
      "Finally, they succeeded in getting Yum Brands, which also controls KFC, Long John Silver's and Pizza Hut, to do the unthinkable: The corporation agreed to pay a penny more per pound of tomatoes and not pass that amount on to consumers.\n",
      "\n",
      "———\n",
      "\n",
      "If boycotts and demonstrations could work against Taco Bell, the workers thought, the techniques could succeed with other fast-food titans, as well as companies that supplied tomatoes to restaurants, universities, museums and company cafeterias.\n",
      "\n",
      "The alliance launched campaigns against household-name brands and suppliers, who signed on to the Fair Food Program in rapid succession: McDonald's in 2007; Whole Foods, Burger King and Subway in 2008; food suppliers Compass Group and Bon Appetit Management Co. in 2009; Sodexo and Aramark in 2010; Chipotle and Trader Joe's in 2012.\n",
      "\n",
      "The food giants agreed to pay the penny-per-pound to workers through growers who follow a list of rules, including providing tents for shade, accessible drinking water, committees that monitor workplace safety and time for workers to be educated on their rights during work hours.\n",
      "\n",
      "\"Our eyes were being opened to the issues facing farmworkers,\" said Maisie Ganzler, Bon Appetit's vice president of strategy. Company representatives visited Immokalee. \"It was moving to meet workers advocating for themselves.\"\n",
      "\n",
      "New companies continue to enroll: Wal-Mart joined in 2014 and Fresh Market in 2015.\n",
      "\n",
      "And then there is the consumer. Many consumers are concerned about pesticides on the foods they eat, forcing grocers to provide organic fruits and vegetables. But do they care about farmworker safety?\n",
      "\n",
      "Carolyn North, a mother of two from Delray Beach, said she checks labels in search of Florida and organic produce, but hasn't thought much about farmworker conditions as she shops.\n",
      "\n",
      "\"I see workers in trucks on their way to the farms,\" said North, 50\\. \"But I don't know how to find out about their working conditions. If I found out a farm was mistreating its employees, I wouldn't buy from there.\"\n",
      "\n",
      "———\n",
      "\n",
      "There still are two major food enterprises targeted by the coalition that have declined to sign the agreement: Wendy's and Publix.\n",
      "\n",
      "These companies say that it's not their responsibility to pay employees of farm contractors. They say the farmers should pay the workers directly.\n",
      "\n",
      "Wendy's said its suppliers abide by the coalition's Fair Food Code of Conduct, which means they work only with growers who submit to audits and agree to a list of treatment standards for workers.\n",
      "\n",
      "\"We simply do not believe that it is appropriate for us to compensate individuals who work for another company,\" Wendy's spokesman Bob Bertini said. \"It's up to their employer, not us.\"\n",
      "\n",
      "The coalition has put its strongest spotlight on Publix because of its large market share in Florida, about half the South Florida grocery market.\n",
      "\n",
      "A documentary, \"Food Chains,\" with actress and activist Eva Longoria as an executive producer and nominated for a 2014 Academy Award, showed a six-day fast by Benitez and fellow Immokalee workers in front of Publix headquarters in Lakeland.\n",
      "\n",
      "And earlier in 2015, more than 1,000 participants walked through St. Petersburg during a March and Concert for Fair Food; one colorful banner said, \"Publix: How Much Longer?\"\n",
      "\n",
      "Publix has responded with its own defensive strategy, including a slogan, \"Put It In The Price,\" saying the company sympathizes with workers but not the payment system devised by the coalition.\n",
      "\n",
      "\"The CIW's Fair Food campaign makes it sound like Publix is unwilling to pay a penny more per pound of tomatoes, which is not true,\" Publix spokeswoman Nicole Krauss said. \"We have publicly and repeatedly offered to pay the extra penny per pound and more.\n",
      "\n",
      "\"To give workers better wages, we will gladly pay more for tomatoes if our suppliers will put that penny in the price they charge to us. However, it is not appropriate for Publix to pay another company's workers directly. At its core, this is a labor dispute. It is the Department of Labor's role to enforce the laws that protect workers' rights.\"\n",
      "\n",
      "———\n",
      "\n",
      "The penny-a-pound premium can amount to as much as $100 a week in a worker's paycheck, lifting a farmworker's annual salary from about $10,000 to $17,000 a year, advocates say.\n",
      "\n",
      "Tomato workers have earned almost $20 million since 2011 through the program, said Laura Safer Espinoza, a retired New York State Supreme Court justice charged with ensuring that the Fair Food agreements are enforced.\n",
      "\n",
      "\"I thought cleaning up the Florida tomato industry would take a long time,\" said Safer Espinoza, executive director of the Sarasota-based Fair Foods Standards Council. \"But after three seasons, there have been no cases of forced labor or violence by supervisors against workers. This includes sexual assault, which is well-documented as prevalent outside the Fair Food Program.\"\n",
      "\n",
      "Coalition founder Germino said the Florida Modern-Day Slavery Museum, a traveling exhibit that includes Edgar's famous bloody shirt and other relics of brutality against farmworkers, now seems as if it is filled with antiques.\n",
      "\n",
      "\"We're most proud that the museum, for the tomato industry, is actually history,\" Germino said. \"With other crops not in the Fair Food Program, this is not history.\"\n",
      "\n",
      "The coalition believes the Fair Food Program, covering 90 percent of Florida's tomato farms, provides a model that can apply to migrants who pick other crops, from cucumbers to watermelons to apples to strawberries, and other regions of the country.\n",
      "\n",
      "As part of the coalition's agreement with Wal-Mart, the company agreed to broaden the penny-a-pound increase and human rights improvements to its suppliers in other states. Farms from Georgia to New Jersey, where Wal-Mart buys tomatoes in the summer, were audited and monitored by the Fair Food Standards Council last summer.\n",
      "\n",
      "The council conducted its first audit of a Florida strawberry farm last summer. Its first audit of green pepper farms, where the agreement now applies to 10,000 workers, is taking place this winter. And the program has advised migrant dairy workers in Vermont who are seeking better wages, housing and a day off each week.\n",
      "\n",
      "\"The dream for us is to create a new agricultural industry in this country,\" Benitez said, \"with proud farmers and proud buyers who receive the same treatment as an office worker for an honest, hard job.\"\n",
      "        This instance will be ignored in loss calculation. Note, if this happens often, consider increasing the `max_seq_length`.\n",
      "  warnings.warn(\n",
      "  4%|▍         | 10/238 [04:35<1:38:30, 25.92s/it]"
     ]
    },
    {
     "name": "stdout",
     "output_type": "stream",
     "text": [
      "{'loss': 0.7353, 'learning_rate': 0.00025, 'epoch': 0.04}\n"
     ]
    },
    {
     "name": "stderr",
     "output_type": "stream",
     "text": [
      "  8%|▊         | 20/238 [08:20<1:17:25, 21.31s/it]"
     ]
    },
    {
     "name": "stdout",
     "output_type": "stream",
     "text": [
      "{'loss': 0.4856, 'learning_rate': 0.00029907343373680614, 'epoch': 0.08}\n"
     ]
    },
    {
     "name": "stderr",
     "output_type": "stream",
     "text": [
      " 13%|█▎        | 30/238 [11:50<1:11:29, 20.62s/it]"
     ]
    },
    {
     "name": "stdout",
     "output_type": "stream",
     "text": [
      "{'loss': 0.4082, 'learning_rate': 0.00029532886833968404, 'epoch': 0.13}\n"
     ]
    },
    {
     "name": "stderr",
     "output_type": "stream",
     "text": [
      " 13%|█▎        | 31/238 [12:09<1:08:40, 19.91s/it]"
     ]
    }
   ],
   "source": [
    "trainer.train()"
   ]
  },
  {
   "cell_type": "code",
   "execution_count": 11,
   "metadata": {},
   "outputs": [],
   "source": [
    "peft_model.save_pretrained('output/checkpoint-238')"
   ]
  },
  {
   "cell_type": "code",
   "execution_count": 14,
   "metadata": {},
   "outputs": [],
   "source": [
    "from transformers import pipeline, AutoTokenizer\n",
    "from peft import PeftModelForCausalLM\n",
    "\n",
    "peft_model = PeftModelForCausalLM.from_pretrained(model=model, model_id=\"output/checkpoint-238\")\n",
    "peft_model = peft_model.merge_and_unload()\n",
    "# tokenizer = AutoTokenizer.from_pretrained(\"meta-llama/Llama-2-13b-hf\")\n",
    "\n",
    "\n",
    "# Create a text generation pipeline using the model and tokenizer\n",
    "peft_model = torch.compile(peft_model)\n",
    "generator = pipeline('text-generation', model=model, tokenizer=tokenizer)"
   ]
  },
  {
   "cell_type": "code",
   "execution_count": 15,
   "metadata": {},
   "outputs": [
    {
     "data": {
      "text/plain": [
       "'The slightly simplified version is:\\nAlmost 35 percent of Americans are obese, or seriously overweight. Being obese is associated with health problems including heart disease and cancer. The government is trying to deal with this national epidemic by enacting laws that require restaurants, and other places that serve food, to show the calorie content of items on their menus.\\n\\nWhen these laws were first enacted, it was thought that they would lead people to make healthier food choices.\\n\\nLawmakers also hoped that by posting calories, it would encourage restaurants to make healthier foods available.\\n\\nA new study shows that they were half right.\\n\\n## Are You Going To Finish That?\\n\\nShowing restaurant customers the calorie count of menu items might not lead them to pick healthier foods. Most consumers are creatures of habit and order pretty much the same thing every time. But having to tell customers the calorie counts of food they serve may prod restaurants into making healthier foods available.\\n\\nThe study was done by researchers from Johns Hopkins University, the University of Pittsburgh and Harvard Medical School. They found that when eateries began posting their menu\\'s calories, reduced-calorie offerings soon followed.\\n\\nThe study suggests the help comes from restaurants changing \"their menu items instead of consumers changing their behavior.\"\\n\\nSo, while posting calories may not improve diners\\' decision-making, it just might limit the damage.\\n\\n## Just Make It The \"Usual\"\\n\\nThe study examined restaurants over a period from 2012 to 2014. They found that restaurants that posted calories on their menus averaged 139 fewer calories per item than restaurants without labeling.\\n\\nRestaurants that moved to calorie posting reduced the calorie content of foods they served. They reduced the calories of meals already on the menu by an average of 120 calories, and new dishes added to the menus averaged 146 fewer calories than their old standbys.\\n\\nAbout 70 percent of fast-food customers say that when they visit a restaurant, they almost always get their \"usual\" order. One study found that two years after the calorie content of menu items first started appearing in Seattle chain restaurants, just 1 in 4 customers said they used that information when deciding what to eat. Roughly 4 in 10 customers said they didn\\'t even notice the new information.\\n\\nBy contrast, \"calorie shaming\" had led restaurants such as Starbucks and McDonald\\'s to make big changes. They have reduced calories and fat in some of their most decadent items. They are also offering more low-calorie options. For example, the Cheesecake Factory changed several of its dishes to make them healthier and added a \"SkinnyLicious\" menu that comes in at around 600 calories.\\n\\n## Calorie Posting To Branch Out\\n\\nIt has been almost a decade since health experts first suggested that making better food choices when eating out was an important part of weight control.\\n\\nA new law starting in December 2016 will expand the reach of the current law. Not only restaurants, but also other places that sell food such as movie theaters, bowling alleys and ice cream parlors will have to post calories.\\n\\nEvery day, roughly one-third of all American adults and children eat out. So scaling back the calorie content of customer favorites could have a real effect, the study\\'s authors said.'"
      ]
     },
     "execution_count": 15,
     "metadata": {},
     "output_type": "execute_result"
    }
   ],
   "source": [
    "idx = shuffled_alpaca[10]['text'].index('[/INST]\\n')\n",
    "shuffled_alpaca[10]['text'][idx + len('[/INST]\\n'):]"
   ]
  },
  {
   "cell_type": "code",
   "execution_count": 16,
   "metadata": {},
   "outputs": [
    {
     "data": {
      "text/plain": [
       "'[INST] Slightley simplify the following text, as to make it more accesible :\\nEarly reports suggest that restaurant patrons shown the calorie content of the dishes they may order don\\'t necessarily use that information to make better food and beverage choices.\\n\\nBut all may not be lost, a new study suggests: When eateries got ahead of a new federal mandate and voluntarily posted their offerings\\' calorie load for all to see, they appeared to whittle the calorie content of their offerings more aggressively than did establishments waiting for a calorie-posting requirement to take effect.\\n\\nReducing the calorific load of menu items may not improve consumers\\' decision-making. But it could just limit the damage of the decisions they make while dining, drinking or snacking away from home, the authors of the new research conclude.\\n\\nIn the new study, public health researchers from Johns Hopkins University, University of Pittsburgh and Harvard Medical School found that between 2012 and 2014, restaurants that moved to calorie posting early reduced the calorie content of standard items on their menus by an average of roughly 120 calories. New food items introduced by these restaurants averaged 146 fewer calories than their old standbys.\\n\\nIn 2014, restaurants that embraced calorie labeling averaged 139 fewer calories per item than restaurants without labeling. Similar differences were found in 2013 and 2012.\\n\\n\"The greatest impact on mandatory menu labeling on population health may come from restaurants\\' changing the calories of their menu items instead of consumers\\' changing their behavior,\" the study authors said, writing in Health Affairs on Monday.\\n\\nIt\\'s been almost a decade since public health officials and activists first suggested that if burgeoning obesity rates were to be reversed, consumers eating away from home needed to make better-informed decisions. In December 2016, a federal law takes effect that requires the posting of food items\\' calorie counts not only at chain restaurants and fast-food joints, but also in establishments such as movie theaters, bowling alleys, snack counters, coffee shops and ice cream parlors.\\n\\nAdvocates of calorie posting were betting that when confronted with the calorie loads delivered by their favorite menu items, consumers would scan the menu for acceptable lower-calorie alternatives. They also hoped that restaurant giants would be shamed by the uniformly fattening fare they offered, and make menu changes to accommodate their health-conscious customers.\\n\\nSome of the most insightful research on calorie posting, however, suggests that restaurants have been more nimble in responding to calorie-posting requirements than consumers.\\n\\nWhen pulling into a fast-food restaurant, about 70 percent of customers acknowledge they rarely diverge from their \"usual\" order. One study found that two years after the calorie content of menu items first started appearing in Seattle chain restaurants, just 1 in 4 customers who frequented those establishments said they used that nutritional information to guide their consumption choices. Roughly 4 in 10 customers said they didn\\'t even notice the new information.\\n\\nBy contrast, calorie-shaming has moved such restaurant giants as Starbucks, IHOP and McDonald\\'s to reform some of their most decadent menu items and offer more low-calorie options. After a welter of its offerings were called out as \"extreme eating\" by the Center for Science in the Public Interest, the Cheesecake Factory reformulated several of its dishes and added a \"SkinnyLicious\" menu of meal offerings coming in at around 600 calories.\\n\\n\"I was sick of winning that prize,\" Cheesecake Factory founder and Chief Executive Officer David M. Overton told The Wall Street Journal.\\n\\nEvery day, roughly one-third of all American adults and children eat at a fast-food restaurant. So scaling back the calorie content of customer favorites can have an effect, said the authors of the latest study.\\n\\nThe current obesity epidemic appears to be the result of 220 excess calories consumed daily per adult and 165 extra calories consumed daily by children. Knocking off between 120 and 150 calories each time a diner eats at a fast-food restaurant goes some way to rectifying that imbalance, the authors said. [/INST]\\n'"
      ]
     },
     "execution_count": 16,
     "metadata": {},
     "output_type": "execute_result"
    }
   ],
   "source": [
    "shuffled_alpaca[10]['text'][:idx + len('[/INST]\\n')]"
   ]
  },
  {
   "cell_type": "code",
   "execution_count": 17,
   "metadata": {},
   "outputs": [
    {
     "name": "stderr",
     "output_type": "stream",
     "text": [
      "Setting `pad_token_id` to `eos_token_id`:2 for open-end generation.\n"
     ]
    },
    {
     "name": "stdout",
     "output_type": "stream",
     "text": [
      "<s> [INST] Slightley simplify the following text, as to make it more accesible :\n",
      "Early reports suggest that restaurant patrons shown the calorie content of the dishes they may order don't necessarily use that information to make better food and beverage choices.\n",
      "\n",
      "But all may not be lost, a new study suggests: When eateries got ahead of a new federal mandate and voluntarily posted their offerings' calorie load for all to see, they appeared to whittle the calorie content of their offerings more aggressively than did establishments waiting for a calorie-posting requirement to take effect.\n",
      "\n",
      "Reducing the calorific load of menu items may not improve consumers' decision-making. But it could just limit the damage of the decisions they make while dining, drinking or snacking away from home, the authors of the new research conclude.\n",
      "\n",
      "In the new study, public health researchers from Johns Hopkins University, University of Pittsburgh and Harvard Medical School found that between 2012 and 2014, restaurants that moved to calorie posting early reduced the calorie content of standard items on their menus by an average of roughly 120 calories. New food items introduced by these restaurants averaged 146 fewer calories than their old standbys.\n",
      "\n",
      "In 2014, restaurants that embraced calorie labeling averaged 139 fewer calories per item than restaurants without labeling. Similar differences were found in 2013 and 2012.\n",
      "\n",
      "\"The greatest impact on mandatory menu labeling on population health may come from restaurants' changing the calories of their menu items instead of consumers' changing their behavior,\" the study authors said, writing in Health Affairs on Monday.\n",
      "\n",
      "It's been almost a decade since public health officials and activists first suggested that if burgeoning obesity rates were to be reversed, consumers eating away from home needed to make better-informed decisions. In December 2016, a federal law takes effect that requires the posting of food items' calorie counts not only at chain restaurants and fast-food joints, but also in establishments such as movie theaters, bowling alleys, snack counters, coffee shops and ice cream parlors.\n",
      "\n",
      "Advocates of calorie posting were betting that when confronted with the calorie loads delivered by their favorite menu items, consumers would scan the menu for acceptable lower-calorie alternatives. They also hoped that restaurant giants would be shamed by the uniformly fattening fare they offered, and make menu changes to accommodate their health-conscious customers.\n",
      "\n",
      "Some of the most insightful research on calorie posting, however, suggests that restaurants have been more nimble in responding to calorie-posting requirements than consumers.\n",
      "\n",
      "When pulling into a fast-food restaurant, about 70 percent of customers acknowledge they rarely diverge from their \"usual\" order. One study found that two years after the calorie content of menu items first started appearing in Seattle chain restaurants, just 1 in 4 customers who frequented those establishments said they used that nutritional information to guide their consumption choices. Roughly 4 in 10 customers said they didn't even notice the new information.\n",
      "\n",
      "By contrast, calorie-shaming has moved such restaurant giants as Starbucks, IHOP and McDonald's to reform some of their most decadent menu items and offer more low-calorie options. After a welter of its offerings were called out as \"extreme eating\" by the Center for Science in the Public Interest, the Cheesecake Factory reformulated several of its dishes and added a \"SkinnyLicious\" menu of meal offerings coming in at around 600 calories.\n",
      "\n",
      "\"I was sick of winning that prize,\" Cheesecake Factory founder and Chief Executive Officer David M. Overton told The Wall Street Journal.\n",
      "\n",
      "Every day, roughly one-third of all American adults and children eat at a fast-food restaurant. So scaling back the calorie content of customer favorites can have an effect, said the authors of the latest study.\n",
      "\n",
      "The current obesity epidemic appears to be the result of 220 excess calories consumed daily per adult and 165 extra calories consumed daily by children. Knocking off between 120 and 150 calories each time a diner eats at a fast-food restaurant goes some way to rectifying that imbalance, the authors said. [/INST]\n",
      "     To lose fatty foods went diet plans based mostly on vegetables eaten raw rather cooked meat_. Dieters ate salads made fresh fruits salad dressings served side dish meals prepared using olive oil cooking oils.__Olive Oil Cookbook recipes included vegetarian burgundian Burgandy Stew Recipes Taste Test Kitchen cookbooks featured high protein veggisburgurdy steak recipe books gave advice on working outsidesideways inside gyms. Weight Watcher groups met outside gymnasiumsmasgymgymsmasfitnessclubssam fitness clubs mas Factories produced workout videos featuring celebritities exercising alongside trainee traineesshoweverthat worked best. All kinds showed themselves getting ready to start losing weights showcasing celebrations before starting weighinsweigh inspeakingnow.comic book characters say funny jokesabout being skinny\\[hugging \\]eat pizza bread sandwhicheshesaid She likes pizzabread Sandwichshe loved Pizza Breadyummm Yummy sandwichyyummmy yuuuummi um mi umukki kikiki ikkii hugginiggi kiKiii KKKIIIII Huggsihhhhi huhghHi Hi HUGGINGGGHHHI DIDN\\'T WANT TO GO OUT AND SEEM GROSSLY OVERWEIGHTED BY THE CALORIES IN MY DIET''***She thought herself ***into fitting clothes**** My friendships grew stronger everyday, says author Jill Smolowecka. Everyday life changed forever due to technology advancement technologies making communication easier.</p><hr class=\"storyintro\">Story Introduce story intro StoryIntroeasy readable article intestore Readability easy readingarticle <span></ span>\"There weren'\"theteapartners\",\"authorJillsays McCormick adds.coffeeshopper coffeshoppers\", according to journalist Emily Zhang.<img src=\"/assets/_BlogImageUploadId/*@media*/blogimageupload//file://%z/%XZ\\%^PictureName%%\".jpg zclass=\"\" /><!-- %picturename &# x Picture Name --> <!-- picture name---> Author JIllSmolliwccksaa writes \"_Teenage Teens...\"_ During lunchtime breaks yesterday afternoon UCLA professor named Michael Pollan interviewed Professor Paul Lichner about Caloricetology (CaloriCoast). According to teacher Dr.PaulDr.~litchler lithchdr.\",according to doctor ~Doctor Doctor dr.~\\textit{\\textasci{}Accordion}} ^(accordio)^(\"doctort\")^() __Food Chains Restaurant Group__, Food Chain Restaruunt group__. This blog post talks abut both sides of debate, explains pollster expert jonathanpollardjonesjon Jonathan Jones explained why teachers taught classes online courses, adding media studies experts learned everything possible.. About halfway thru college education costs $, $$. Students took coursework learning science teaching students learn history lessons teach kids studying math taking tests History Lessons teaches Kids Learning Math Taking TestsHistoryLessonteachhistorylessoneofthisworldstudiedbypeoplelearningmath By calculator calculations help explain parts of understanding human bodies and brains function wellnesshealthwellbeing understood partying hardworking humans understand hunger management systems helped create knowledge sharing sites helping spread ideas across countries worldwide....About halfway done here in California Education Department created Knowledge Is Power site dedicated towards publishing newsletters Newsletternews letter lettersNewsLettere Letters lettrrs Letterrr writewriting WritingWrittingWitingWWitettireddwwittirrite teaseewwwwteekeebbbbaaaaaahhaaaaaaaaaaw mannnnawnnananaannannaNNNAANAAAWMANAAAA NUNUMAWNNUMMYUMMY Umami ManiacalizeManiazzzaumaazmanazzmaamaazaammaawaanza azmannwaanz Mannyman died trying to die___die____Die Die Dead guy tried talking dirty stuff..... Sometimes guys talked bad words happened ___soooomyguddiytalkguyd~~~~ Guy asked girl questions above kitchen table ~~Kitchen Table\\\\kitchnun \\\\kitknunn• Kit knight • kitnitnick Knight • nitpick Nicknames nicknamed himself \"__Goddess\\_ GoddaayyaayaadaAYYYDAZZMDDDADHDTTTOOOOMMMMM!!!! Guynamesaskneddedhimselfishkaaiiykyykkeddeeyehhyyeeguyyyyyy Kay kept asking questionsthatgirlfriend questionedbackyard yard garden party place picnicplacepicnik Place Pic Nickey Kept Asking QuestionsThat Girl Friendship Was Going On Strong Back Here Nowhere near Garden Party Places Satisfaction Saturday night satifypicsaturday Night Today Morning Shows Offset For Everyone Else. People Were Talking Yesterday Gardennnsaturedenningplces Friday morning showsoffforrestshowhousemagnetismagneticspace MagNetMagazine maggie KennedyKeefried,MyFriendShippyyyy… To knowwhatkindafriendspark … For example, movies watched TV channels last weekend starring Celebs watching starswatchstarvippie piecedevildeville deviledvegetables gardendistractionsdistracteds distractionsciencesciences scifi tv channel vibechannel Channel comcasttv ShowtimesChannelTVShowTimesChannels Online Comedy BloggersComediyan comedianswerefunniests comedy blogs Site sitedsiteSiteWriterwriterwritng writer writers Writer WritertubeTubeUser useruser User You tubeYou tubeperson YouTube Person personpersonPerson US President Barrett Obama visited White House Tuesday evening presidential visit white housewhitehousevisits president visitsWhite housespresidentBarretObamasbarobaroba Obamebuaishtweet tweeted @Presidential Twitterfeed twitterfeeder Twitteeter Feeding Birdswatchsat Thursday nights Wednesday ThursdaysThursdaythrus days USA Presidents Visitors Who Watched Last Weekends DVDVDSDVSATUSASDSUSA Davis Roberts Robarts Arthur Robards Roberts Arther Robertstsavvy Davidsinnaveauvsinoobsessedwithtwitterdsocialnetwork social networksdfsdf sdffffsf dsfdjsdvskjdjkdkjeekdtkoookokojoyjoyjoijoiyo okooooohhojjjiiggijoijiigiikkidd kid Kid Kimberlin Williams spent interviewing Ray Bradbury Interviewed Raymond Carver Books Written Works Book written works Sam Spade Dave Barry Robinson interviwed James Bond Jamie Lee Curtiz Jimbo Jack Ben Danielson spoke Taylor Swift Taylaarsong sang songsongs sung songsing sing singer Jamme Crowder Raymond Carrerviviveva jammingdan dan Dan BrownDan brown lived Danny Boyle livingroomlivinf roommate Dan Rooney Livingston King Lewis Thomas Jefferson Jackson Lewison Johnson hungoutside hanging gardens hangoutsiderow William Shakespeare Hungaryhungry Harry Potteryheadworks Headmaster Williamszczkowski Shaw Masterpiece mastermind Steve Martin Stevensoniangarden gartenstein Steinbecksteinecke muse artist artiste artwork Artist Artistic Workshop workshop workshops Stewart MacdonaldStevensonnewsorkowski STEINBECKSTEEENNEWSPEAKER TEACHERTEACHERS ARTISTRISTARTRISARTWORKSHopsHOUSE HOUSTON Post Office Manager Edgar HooverWorkshopsmanager manager editaratiesteacher educatorseducation SYMBOLICSYMBOLIZATION SYMPathologpathologist pathologists Pathologies Patients Diseases Symposiuspsychological Psychopathologie psychopharmaceutical Phoebee Beeing BEATEEEEESSEERRRRRS Syndrometeenthousands phycoolphotograph peephoto photographer photographed Peppethouse sycamoonnecyhome Home SweetHome sweetheart heartbeat Heart beat HEArt BeatHEarteatHOMEEdges Edwardsville Edwardsvideo videovido video Video clips Clippcliptclip clipvideo vidvidiotato watch virgoozzo ozzy Ozzy Osborne Family member osbornfamily Member family memembermemmbermember MembersFamilyMemberMembro Membership Council Member council members United States Educational System UNITEducatedSystem systemsystem Unitesystem unified unitedstatesunitstate states StateStateUniverse UniversUniversuni Country Australia country Australian Australianaustraliensiennesiensions Irelandansland National Museum Of Scotland Arts Counseling counseloring Couplecouplescountry CoupledCountry Canada UK Countriescountrivers FranceFrance FrenchCanadas CanadianCountrie Canoescanadooukenosisnoises noisyoisnosier NoiseNoisiere Rosette Seuss roses Rose rose Redrose redrosese ROSED NOISETTA SOUNDSOound sound SoundSound Soundsound sounded soundsounds SoundsAustralias Canadainoise Aussiejoke joke Irish Oaktree Rossini poem poems PoemsPoeme poet poetry Rhyme rhime rimesrhymes Rhypes riyesher son Her father Ted Hughes Father Son set Dad Set dad sets daughter daughters mother Mother Rosemary Rose Mary Cleaver Dickinson Richard III Kingsworth Library Room libraryrooms rooms librarieslibrary English Literatures engllish literature England literaturiersenglesliterarius English literary poema Rosa cleavedaughterclevedfather Tommy Thompson Tommys uncle willywonnie wonnymily WonTommy Kinsey Roger Marmadukely Kipling bought apple trees apples Apple tree Applies applegather fruit basket Tree Basket Lady Baker Sets Doggerelogy doggedogs dogsdog bark Bark Doggery ‐American Studies Courseworker Coopeeenoir worker coopedup kindergaten Kindergartener student StudentstudentStudentStudents studied British historian Bill Scott Fitzpatrick, author Arthur Darvin. Darwin.org Aristoteelesqueezezeez Ezrasdarwin. org Robin Milligan, Mr. Miller, Mrs. Martina McQuarry, Ms./Ms. Mcquarrrys shared thoughts Thoughtsinstrumentals instrumentalis instrumental music Radio broadcast radio station AMRadio Station FMStationFMstation FMradio stations FMRIght Heritage Heritage heritageher Herbert Kirschauer shares thoughts Shareholder Shareholdersshare Shareresearch sharvesharres harred Harriet darwilliamsson artssharedknowledearthing Shareshave fun facts Funfact FunFact fanfan knew nothing ladylike laidedaway daida id ai dai aid DaDa Id DaDa ID DaDa DAda AAAs ASAP SAVE MEGAZEMESA STORY OF COURAGEANDCOFFERTAINMENT FUNNY PEACEKEEPFACTORS FOODFOOTESTABLOOSENSLEPTIDEAUDIVIDAI amusedidiabcubbed Peacekeeper Peace keeper peacekeepker piecekeepeer pipecustomeatyester eggplant custumeaster eggs eggrape desserts sugarbread sweettreat Sugarbag bag Treat Bag Bag PICTORGEPIEFKSAM ISRAELIADECAUSED DEATH CAFE Caesar caedeataea decaeda taeadae Ta escheldeed coco cocotte lesbian Lesbi dyady ad eyesta ayuda ya Ayoda Yaod Afrogamer Jane Austene izzi igizi ogogoized Ogoggzed Izibiza piggottena woman auzone Woman AuZone bis zoombuzzed Wooman woomawooga Azane Bisgaizer Ausbisgzilla siroziszila SiRo Za Ze Bailey Rogue Elizabetheny stole eyes gazelle gaze leaze afganistan Gazelli saw Elizabeth Bennett Saw Benjamin Franklin Hawkes biography Biographer Isaac Newton Biography Text Hugo Van Horizon reviewed review Reviews Review reviewsreviewreviews Rebecca Hazeltass Book publisher Received Awards Award winner awards award Win awarded Nobelaward win awarde Awared nobarawardsnobasa Nova Scotira Ammerican Novels Bestsellingnovellll novels novellaaws Amazon novelamazon amazonoao Amazona Amy Bergamy Saying Americasayerzing to Japan  Amazonia Amy Bergramsaying Jay Ashford Hammettes Authorizing Haywood Bayham Farm Clubbing Society clubbin society Lizabeth bennett saw haybenjet farm saw Adolf Hitler Joseph Goering Germany World War II Nazis killed Jews Jewish Holocaost Nazi killing German naziphiles world war ii holokaaususa Jew Israel Holliday Holmesjack Hannahare jewashita Jessica Savitzberg sextapescript tape record﻿record recorded Record recording records Records sentence ­Sentencing laws Lawyers lawyerslawyer lawyer Lawrence Rothkircher Sunrise Roadmap sentenced Sunrisemanager sun risera map Map Map sendmaps Send maps sentencaps SendMAPPSENTIRREVIEW REIVIEWRITINGS WRITER writtingwriter writiringwtirtgt sendisp sun rise tuktown Town towntown towns tsuna Tsushima Islands China Sea Island Japanese islands Asia Pacific Ocean sea ocean waterfall waters fall raindropped Fall Rainwaterfalls Water falls seashellsea Russia Russky Russian language Language languages Chinese peoples speaking Speaks Speaker speaks speaker speakspeakerspipezoid Toyota car company toycarcompany Company Cars cars driving roads roadroad driver drove past streetstreetz streets Streety Streeets streeketa, sausage casserole Cashewcaserozasowa CrackerJack jackpotatoes pot\n"
     ]
    },
    {
     "ename": "",
     "evalue": "",
     "output_type": "error",
     "traceback": [
      "\u001b[1;31mThe Kernel crashed while executing code in the the current cell or a previous cell. Please review the code in the cell(s) to identify a possible cause of the failure. Click <a href='https://aka.ms/vscodeJupyterKernelCrash'>here</a> for more info. View Jupyter <a href='command:jupyter.viewOutput'>log</a> for further details."
     ]
    }
   ],
   "source": [
    "prompt =  '<s> ' + shuffled_alpaca[10]['text'][:idx + len('[/INST]\\n')]  # Your starting text here\n",
    "# prompt = '<s>[INST] Slightley simplify the following text, as to make it more accesible :\\n Settlement in what is now Romania began in the Lower Paleolithic followed by written records attesting the kingdom of Dacia, its conquest, and subsequent Romanisation by the Roman Empire during late antiquity. The modern Romanian state was formed in 1859 through a personal union of the Danubian Principalities of Moldavia and Wallachia. The new state, officially named Romania since 1866, gained independence from the Ottoman Empire in 1877. During World War I, after declaring its neutrality in 1914, Romania fought together with the Allied Powers from 1916. In the aftermath of the war, Bukovina, Bessarabia, Transylvania, and parts of Banat, Crișana, and Maramureș became part of the Kingdom of Romania.[19] In June–August 1940, as a consequence of the Molotov–Ribbentrop Pact and Second Vienna Award, Romania was compelled to cede Bessarabia and Northern Bukovina to the Soviet Union and Northern Transylvania to Hungary. In November 1940, Romania signed the Tripartite Pact and, consequently, in June 1941 entered World War II on the Axis side, fighting against the Soviet Union until August 1944, when it joined the Allies and recovered Northern Transylvania. Following the war and occupation by the Red Army, Romania became a socialist republic and a member of the Warsaw Pact. After the 1989 Revolution, Romania began a transition towards democracy and a market economy. [/INST]\\nThe slightly simplified version is:\\n'\n",
    "# tokenizer.pad_token = tokenizer.eos_token\n",
    "with torch.backends.cuda.sdp_kernel(enable_flash=True, enable_math=False, enable_mem_efficient=False):\n",
    "    generated_text = generator(prompt, max_length=4096, temperature=0.4, do_sample=True, top_p=0.9, use_cache=True, repetition_penalty=2.) # You can adjust max_length\n",
    "\n",
    "# Print generated text\n",
    "for g in generated_text:\n",
    "    print(g[\"generated_text\"])"
   ]
  }
 ],
 "metadata": {
  "kernelspec": {
   "display_name": "deep-learning",
   "language": "python",
   "name": "python3"
  },
  "language_info": {
   "codemirror_mode": {
    "name": "ipython",
    "version": 3
   },
   "file_extension": ".py",
   "mimetype": "text/x-python",
   "name": "python",
   "nbconvert_exporter": "python",
   "pygments_lexer": "ipython3",
   "version": "3.10.12"
  }
 },
 "nbformat": 4,
 "nbformat_minor": 2
}
